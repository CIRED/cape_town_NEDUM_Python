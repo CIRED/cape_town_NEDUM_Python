{
 "cells": [
  {
   "cell_type": "markdown",
   "id": "d8171916",
   "metadata": {},
   "source": [
    "# Notebook: run model"
   ]
  },
  {
   "cell_type": "markdown",
   "id": "eb194064",
   "metadata": {},
   "source": [
    "## Preamble\n",
    "\n",
    "### Import packages"
   ]
  },
  {
   "cell_type": "code",
   "execution_count": null,
   "id": "aab0f13f",
   "metadata": {},
   "outputs": [],
   "source": [
    "# We import standard Python libraries\n",
    "import numpy as np\n",
    "import pandas as pd\n",
    "import os\n",
    "import geopandas as gpd\n",
    "import matplotlib.pyplot as plt\n",
    "import matplotlib as mpl\n",
    "from matplotlib.lines import Line2D\n",
    "from IPython.display import Image\n",
    "\n",
    "# We also import our own packages\n",
    "import inputs.data as inpdt\n",
    "import inputs.parameters_and_options as inpprm\n",
    "import equilibrium.compute_equilibrium as eqcmp\n",
    "import equilibrium.run_simulations as eqsim\n",
    "import equilibrium.functions_dynamic as eqdyn\n",
    "import outputs.export_outputs as outexp\n",
    "import outputs.flood_outputs as outfld\n",
    "import outputs.export_outputs_floods as outval"
   ]
  },
  {
   "cell_type": "markdown",
   "id": "f9bb5e00",
   "metadata": {},
   "source": [
    "### Define file paths"
   ]
  },
  {
   "cell_type": "code",
   "execution_count": null,
   "id": "4b266ca1",
   "metadata": {},
   "outputs": [],
   "source": [
    "path_code = '..'\n",
    "path_folder = path_code + '/Data/'\n",
    "path_precalc_inp = path_folder + 'Precalculated inputs/'\n",
    "path_data = path_folder + 'data_Cape_Town/'\n",
    "path_precalc_transp = path_folder + 'precalculated_transport/'\n",
    "path_scenarios = path_data + 'Scenarios/'\n",
    "path_outputs = path_code + '/Output/'\n",
    "path_floods = path_folder + \"FATHOM/\"\n",
    "path_input_plots = path_outputs + '/input_plots/'\n",
    "path_input_tables = path_outputs + '/input_tables/'"
   ]
  },
  {
   "cell_type": "markdown",
   "id": "f7622dec",
   "metadata": {},
   "source": [
    "### Create associated directories if needed"
   ]
  },
  {
   "cell_type": "code",
   "execution_count": null,
   "id": "6d152754",
   "metadata": {},
   "outputs": [],
   "source": [
    "try:\n",
    "    os.mkdir(path_input_plots)\n",
    "except OSError as error:\n",
    "    print(error)\n",
    "\n",
    "try:\n",
    "    os.mkdir(path_input_tables)\n",
    "except OSError as error:\n",
    "    print(error)"
   ]
  },
  {
   "cell_type": "markdown",
   "id": "2a52ebdb",
   "metadata": {},
   "source": [
    "### Set timeline for simulations"
   ]
  },
  {
   "cell_type": "code",
   "execution_count": null,
   "id": "e4fa3961",
   "metadata": {
    "lines_to_next_cell": 2
   },
   "outputs": [],
   "source": [
    "t = np.arange(0, 30)"
   ]
  },
  {
   "cell_type": "markdown",
   "id": "10281f61",
   "metadata": {},
   "source": [
    "## Import parameters and options"
   ]
  },
  {
   "cell_type": "markdown",
   "id": "94148a0d",
   "metadata": {},
   "source": [
    "### We import default parameter and options"
   ]
  },
  {
   "cell_type": "code",
   "execution_count": null,
   "id": "9667b1f0",
   "metadata": {},
   "outputs": [],
   "source": [
    "options = inpprm.import_options()\n",
    "param = inpprm.import_param(\n",
    "    path_precalc_inp, path_outputs, path_folder, options)"
   ]
  },
  {
   "cell_type": "markdown",
   "id": "7fa5400f",
   "metadata": {},
   "source": [
    "### We also set custom options for this simulation"
   ]
  },
  {
   "cell_type": "markdown",
   "id": "b278dbb7",
   "metadata": {},
   "source": [
    "#### We first set options regarding structural assumptions used in the model"
   ]
  },
  {
   "cell_type": "code",
   "execution_count": null,
   "id": "e5a6ce93",
   "metadata": {},
   "outputs": [],
   "source": [
    "# Dummy for taking floods into account in agents' choices\n",
    "options[\"agents_anticipate_floods\"] = 1\n",
    "# Dummy for preventing new informal settlement development\n",
    "options[\"informal_land_constrained\"] = 0"
   ]
  },
  {
   "cell_type": "markdown",
   "id": "901a0dc1",
   "metadata": {},
   "source": [
    "#### Then we set options regarding flood data used"
   ]
  },
  {
   "cell_type": "code",
   "execution_count": null,
   "id": "19aff1bd",
   "metadata": {},
   "outputs": [],
   "source": [
    "# Dummy for taking pluvial floods into account (on top of fluvial floods)\n",
    "options[\"pluvial\"] = 1\n",
    "# Dummy for reducing pluvial risk for (better protected) formal structures\n",
    "options[\"correct_pluvial\"] = 1\n",
    "# Dummy for taking coastal floods into account (on top of fluvial floods)\n",
    "options[\"coastal\"] = 1\n",
    "# Digital elevation model to be used with coastal floods (MERITDEM or NASADEM)\n",
    "# NB: MERITDEM is also the DEM used for fluvial and pluvial flood data\n",
    "options[\"dem\"] = \"MERITDEM\"\n",
    "# Dummy for taking defended (vs. undefended) fluvial flood maps\n",
    "# NB: FATHOM recommends to use undefended maps due to the high uncertainty\n",
    "# in infrastructure modelling\n",
    "options[\"defended\"] = 1\n",
    "# Dummy for taking sea-level rise into account in coastal flood data\n",
    "# NB: Projections are up to 2050, based upon IPCC AR5 assessment for the\n",
    "# RCP 8.5 scenario\n",
    "options[\"slr\"] = 1"
   ]
  },
  {
   "cell_type": "markdown",
   "id": "d91b39a6",
   "metadata": {},
   "source": [
    "#### We also set options for scenarios on time-moving exogenous variables"
   ]
  },
  {
   "cell_type": "code",
   "execution_count": null,
   "id": "166586ad",
   "metadata": {},
   "outputs": [],
   "source": [
    "# NB: Must be set to 1/2/3 for low/medium/high growth scenario\n",
    "options[\"inc_ineq_scenario\"] = 2\n",
    "options[\"pop_growth_scenario\"] = 3\n",
    "options[\"fuel_price_scenario\"] = 2"
   ]
  },
  {
   "cell_type": "markdown",
   "id": "408da931",
   "metadata": {},
   "source": [
    "#### Finally, we set options regarding data processing"
   ]
  },
  {
   "cell_type": "markdown",
   "id": "b6cc2945",
   "metadata": {},
   "source": [
    "Default is set at zero to save computing time\n",
    "(data is simply loaded in the model)\n",
    "\n",
    "NB: this is only needed to create the data for the first time, or when the\n",
    "source is changed, so that pre-processed data is updated"
   ]
  },
  {
   "cell_type": "code",
   "execution_count": null,
   "id": "4fec8b5b",
   "metadata": {
    "lines_to_next_cell": 2
   },
   "outputs": [],
   "source": [
    "# Dummy for converting small-area-level (SAL) data into grid-level data\n",
    "# (used for result validation)\n",
    "options[\"convert_sal_data\"] = 0\n",
    "# Dummy for computing expected income net of commuting costs on the basis\n",
    "# of calibrated wages\n",
    "options[\"compute_net_income\"] = 0"
   ]
  },
  {
   "cell_type": "markdown",
   "id": "0ab57012",
   "metadata": {},
   "source": [
    "## Give name to simulation to export the results"
   ]
  },
  {
   "cell_type": "code",
   "execution_count": null,
   "id": "8dc97094",
   "metadata": {},
   "outputs": [],
   "source": [
    "# NB: this changes according to custom parameters of interest\n",
    "name = ('floods' + str(options[\"agents_anticipate_floods\"])\n",
    "        + str(options[\"informal_land_constrained\"])\n",
    "        + '_F' + str(options[\"defended\"])\n",
    "        + '_P' + str(options[\"pluvial\"]) + str(options[\"correct_pluvial\"])\n",
    "        + '_C' + str(options[\"coastal\"]) + str(options[\"slr\"])\n",
    "        + '_scenario' + str(options[\"inc_ineq_scenario\"])\n",
    "        + str(options[\"pop_growth_scenario\"])\n",
    "        + str(options[\"fuel_price_scenario\"]))"
   ]
  },
  {
   "cell_type": "code",
   "execution_count": null,
   "id": "532456a6",
   "metadata": {},
   "outputs": [],
   "source": [
    "# We also create the associated paths and directories to store outputs\n",
    "path_output_plots = path_outputs + name + '/plots/'\n",
    "path_output_tables = path_outputs + name + '/tables/'\n",
    "\n",
    "try:\n",
    "    os.mkdir(path_output_plots)\n",
    "except OSError as error:\n",
    "    print(error)\n",
    "\n",
    "try:\n",
    "    os.mkdir(path_output_tables)\n",
    "except OSError as error:\n",
    "    print(error)"
   ]
  },
  {
   "cell_type": "markdown",
   "id": "ebff1070",
   "metadata": {},
   "source": [
    "## Load data"
   ]
  },
  {
   "cell_type": "markdown",
   "id": "819fedee",
   "metadata": {},
   "source": [
    "### Basic geographic data"
   ]
  },
  {
   "cell_type": "code",
   "execution_count": null,
   "id": "c797a415",
   "metadata": {},
   "outputs": [],
   "source": [
    "grid, center = inpdt.import_grid(path_data)\n",
    "amenities = inpdt.import_amenities(path_precalc_inp, options)\n",
    "geo_grid = gpd.read_file(path_data + \"grid_reference_500.shp\")"
   ]
  },
  {
   "cell_type": "markdown",
   "id": "3666eb28",
   "metadata": {},
   "source": [
    "### Macro data"
   ]
  },
  {
   "cell_type": "code",
   "execution_count": null,
   "id": "ad4339a4",
   "metadata": {
    "lines_to_next_cell": 2
   },
   "outputs": [],
   "source": [
    "(interest_rate, population, housing_type_data, total_RDP\n",
    " ) = inpdt.import_macro_data(param, path_scenarios, path_folder)"
   ]
  },
  {
   "cell_type": "markdown",
   "id": "6a133d44",
   "metadata": {},
   "source": [
    "### Households and income data"
   ]
  },
  {
   "cell_type": "code",
   "execution_count": null,
   "id": "9fda682f",
   "metadata": {},
   "outputs": [],
   "source": [
    "income_class_by_housing_type = inpdt.import_hypothesis_housing_type()\n",
    "\n",
    "(mean_income, households_per_income_class, average_income, income_mult,\n",
    " income_2011, households_per_income_and_housing\n",
    " ) = inpdt.import_income_classes_data(param, path_data)\n",
    "\n",
    "# NB: we create this parameter to maintain money illusion in simulations\n",
    "# (see eqsim.run_simulation function)\n",
    "param[\"income_year_reference\"] = mean_income\n",
    "\n",
    "# Other data at SP (small place) level used for calibration and validation\n",
    "(data_rdp, housing_types_sp, data_sp, mitchells_plain_grid_2011,\n",
    " grid_formal_density_HFA, threshold_income_distribution, income_distribution,\n",
    " cape_town_limits) = inpdt.import_households_data(path_precalc_inp)\n",
    "\n",
    "# Import nb of households per pixel, by housing type (from SAL data)\n",
    "# NB: RDP housing is included in formal, and there are both formal and informal\n",
    "# backyards\n",
    "if options[\"convert_sal_data\"] == 1:\n",
    "    housing_types = inpdt.import_sal_data(grid, path_folder, path_data,\n",
    "                                          housing_type_data)\n",
    "housing_types = pd.read_excel(path_folder + 'housing_types_grid_sal.xlsx')\n",
    "housing_types[np.isnan(housing_types)] = 0"
   ]
  },
  {
   "cell_type": "markdown",
   "id": "1ba48ac9",
   "metadata": {},
   "source": [
    "### Land use projections"
   ]
  },
  {
   "cell_type": "code",
   "execution_count": null,
   "id": "62e9dcba",
   "metadata": {},
   "outputs": [],
   "source": [
    "# region\n",
    "# We import basic projections\n",
    "(spline_RDP, spline_estimate_RDP, spline_land_RDP,\n",
    " spline_land_backyard, spline_land_informal, spline_land_constraints,\n",
    " number_properties_RDP) = (\n",
    "     inpdt.import_land_use(grid, options, param, data_rdp, housing_types,\n",
    "                           housing_type_data, path_data, path_folder)\n",
    "     )\n",
    "\n",
    "# #### For reference, let us visualize the informal settlement risks considered"
   ]
  },
  {
   "cell_type": "code",
   "execution_count": null,
   "id": "6078b450",
   "metadata": {},
   "outputs": [],
   "source": [
    "# First for timing\n",
    "informal_risks_short = pd.read_csv(\n",
    "    path_folder + 'Land occupation/informal_settlements_risk_SHORT.csv',\n",
    "    sep=',')\n",
    "informal_risks_short = informal_risks_short.rename(\n",
    "    columns={\"area\": \"area_short\"})\n",
    "informal_risks_medium = pd.read_csv(\n",
    "    path_folder + 'Land occupation/informal_settlements_risk_MEDIUM.csv',\n",
    "    sep=',')\n",
    "informal_risks_medium = informal_risks_medium.rename(\n",
    "    columns={\"area\": \"area_medium\"})\n",
    "informal_risks_long = pd.read_csv(\n",
    "    path_folder + 'Land occupation/informal_settlements_risk_LONG.csv',\n",
    "    sep=',')\n",
    "informal_risks_long = informal_risks_long.rename(\n",
    "    columns={\"area\": \"area_long\"})\n",
    "\n",
    "informal_risks_timing = pd.concat(\n",
    "    [informal_risks_short[\"area_short\"],\n",
    "     informal_risks_medium[\"area_medium\"],\n",
    "     informal_risks_long[\"area_long\"]],\n",
    "    axis=1)\n",
    "informal_risks_timing[\"sum\"] = (\n",
    "    informal_risks_timing[\"area_short\"]\n",
    "    + informal_risks_timing[\"area_medium\"]\n",
    "    + informal_risks_timing[\"area_long\"])\n",
    "informal_risks_timing[\"argmax\"] = np.zeros(24014)\n",
    "informal_risks_timing[\"argmax\"] = np.nan\n",
    "informal_risks_timing[\n",
    "    \"argmax\"][informal_risks_timing[\"sum\"] > 0] = np.nanargmax(\n",
    "        informal_risks_timing[[\"area_short\", \"area_medium\", \"area_long\"]], 1)\n",
    "informal_risks_timing[\"color\"] = \"tab:grey\"\n",
    "informal_risks_timing.loc[\n",
    "    informal_risks_timing[\"argmax\"] == 0, \"color\"] = \"tab:red\"\n",
    "informal_risks_timing.loc[\n",
    "    informal_risks_timing[\"argmax\"] == 1, \"color\"] = \"tab:blue\"\n",
    "informal_risks_timing.loc[\n",
    "    informal_risks_timing[\"argmax\"] == 2, \"color\"] = \"tab:green\"\n",
    "\n",
    "plt.figure(figsize=(10, 7))\n",
    "Map = plt.scatter(grid.x, grid.y, s=None,\n",
    "                  c=informal_risks_timing[\"color\"],\n",
    "                  marker='.')\n",
    "custom_lines = [Line2D([0], [0], color=\"tab:red\", lw=4),\n",
    "                Line2D([0], [0], color=\"tab:blue\", lw=4),\n",
    "                Line2D([0], [0], color=\"tab:green\", lw=4)]\n",
    "plt.legend(custom_lines, ['Short', 'Medium', 'Long'],\n",
    "           loc='upper right', bbox_to_anchor=(0.925, 0.9))\n",
    "plt.axis('off')\n",
    "plt.title(\"Timing of informal settlement expansion risk\")\n",
    "plt.savefig(path_input_plots + \"informal_settlement_risk_timing\")\n",
    "plt.close()\n",
    "informal_risks_timing.to_csv(path_input_tables\n",
    "                             + 'informal_settlement_risk_timing.csv')\n",
    "\n",
    "Image(path_input_plots + \"informal_settlement_risk_timing.png\")"
   ]
  },
  {
   "cell_type": "code",
   "execution_count": null,
   "id": "87e9f4cf",
   "metadata": {},
   "outputs": [],
   "source": [
    "# Then for probability\n",
    "\n",
    "informal_risks_LOW = pd.read_csv(\n",
    "    path_folder + 'Land occupation/informal_settlements_risk_pLOW.csv',\n",
    "    sep=',')\n",
    "informal_risks_LOW = informal_risks_LOW.rename(\n",
    "    columns={\"area\": \"area_LOW\"})\n",
    "informal_risks_MEDIUM = pd.read_csv(\n",
    "    path_folder + 'Land occupation/informal_settlements_risk_pMEDIUM.csv',\n",
    "    sep=',')\n",
    "informal_risks_MEDIUM = informal_risks_MEDIUM.rename(\n",
    "    columns={\"area\": \"area_MEDIUM\"})\n",
    "informal_risks_HIGH = pd.read_csv(\n",
    "    path_folder + 'Land occupation/informal_settlements_risk_pHIGH.csv',\n",
    "    sep=',')\n",
    "informal_risks_HIGH = informal_risks_HIGH.rename(\n",
    "    columns={\"area\": \"area_HIGH\"})\n",
    "informal_risks_VERYHIGH = pd.read_csv(\n",
    "    path_folder + 'Land occupation/informal_settlements_risk_pVERYHIGH.csv',\n",
    "    sep=',')\n",
    "informal_risks_VERYHIGH = informal_risks_VERYHIGH.rename(\n",
    "    columns={\"area\": \"area_VERYHIGH\"})\n",
    "\n",
    "informal_risks_proba = pd.concat(\n",
    "    [informal_risks_LOW[\"area_LOW\"],\n",
    "     informal_risks_MEDIUM[\"area_MEDIUM\"],\n",
    "     informal_risks_HIGH[\"area_HIGH\"],\n",
    "     informal_risks_VERYHIGH[\"area_VERYHIGH\"]],\n",
    "    axis=1)\n",
    "informal_risks_proba[\"sum\"] = (\n",
    "    informal_risks_proba[\"area_LOW\"]\n",
    "    + informal_risks_proba[\"area_MEDIUM\"]\n",
    "    + informal_risks_proba[\"area_HIGH\"]\n",
    "    + informal_risks_proba[\"area_VERYHIGH\"])\n",
    "informal_risks_proba[\"argmax\"] = np.zeros(24014)\n",
    "informal_risks_proba[\"argmax\"] = np.nan\n",
    "informal_risks_proba[\n",
    "    \"argmax\"][informal_risks_proba[\"sum\"] > 0] = np.nanargmax(\n",
    "        informal_risks_proba[\n",
    "            [\"area_LOW\", \"area_MEDIUM\", \"area_HIGH\", \"area_VERYHIGH\"]\n",
    "            ], 1)\n",
    "informal_risks_proba[\"color\"] = \"tab:grey\"\n",
    "informal_risks_proba.loc[\n",
    "    informal_risks_proba[\"argmax\"] == 0, \"color\"] = \"tab:green\"\n",
    "informal_risks_proba.loc[\n",
    "    informal_risks_proba[\"argmax\"] == 1, \"color\"] = \"tab:blue\"\n",
    "informal_risks_proba.loc[\n",
    "    informal_risks_proba[\"argmax\"] == 2, \"color\"] = \"tab:orange\"\n",
    "informal_risks_proba.loc[\n",
    "    informal_risks_proba[\"argmax\"] == 3, \"color\"] = \"tab:red\"\n",
    "\n",
    "plt.figure(figsize=(10, 7))\n",
    "Map = plt.scatter(grid.x, grid.y, s=None,\n",
    "                  c=informal_risks_proba[\"color\"],\n",
    "                  marker='.')\n",
    "custom_lines = [Line2D([0], [0], color=\"tab:green\", lw=4),\n",
    "                Line2D([0], [0], color=\"tab:blue\", lw=4),\n",
    "                Line2D([0], [0], color=\"tab:orange\", lw=4),\n",
    "                Line2D([0], [0], color=\"tab:red\", lw=4)]\n",
    "plt.legend(custom_lines, ['Low', 'Medium', 'High', \"Very high\"],\n",
    "           loc='upper right', bbox_to_anchor=(0.925, 0.9))\n",
    "plt.axis('off')\n",
    "plt.title(\"Probability of informal settlement expansion risk\")\n",
    "plt.savefig(path_input_plots + \"informal_settlement_risk_proba\")\n",
    "plt.close()\n",
    "informal_risks_proba.to_csv(path_input_tables\n",
    "                            + 'informal_settlement_risk_proba.csv')\n",
    "\n",
    "Image(path_input_plots + \"informal_settlement_risk_proba.png\")"
   ]
  },
  {
   "cell_type": "code",
   "execution_count": null,
   "id": "34db9642",
   "metadata": {},
   "outputs": [],
   "source": [
    "# We correct areas for each housing type at baseline year for the amount of\n",
    "# constructible land in each type\n",
    "coeff_land = inpdt.import_coeff_land(\n",
    "    spline_land_constraints, spline_land_backyard, spline_land_informal,\n",
    "    spline_land_RDP, param, 0)"
   ]
  },
  {
   "cell_type": "markdown",
   "id": "a03d9a8f",
   "metadata": {},
   "source": [
    "#### Let us visualize land availaibility ay baseline year"
   ]
  },
  {
   "cell_type": "code",
   "execution_count": null,
   "id": "8f6e6e9c",
   "metadata": {},
   "outputs": [],
   "source": [
    "# For formal private housing\n",
    "coeff_land_FP_map = outexp.export_map(\n",
    "    coeff_land[0], grid, geo_grid, path_input_plots, 'coeff_land_formal',\n",
    "    \"Land availability (in %) for formal private housing\",\n",
    "    path_input_tables,\n",
    "    ubnd=1, lbnd=0)\n",
    "\n",
    "Image(path_input_plots + \"coeff_land_formal.png\")"
   ]
  },
  {
   "cell_type": "code",
   "execution_count": null,
   "id": "0e7f8731",
   "metadata": {},
   "outputs": [],
   "source": [
    "# For informal backyards\n",
    "coeff_land_IB_map = outexp.export_map(\n",
    "    coeff_land[1], grid, geo_grid, path_input_plots, 'coeff_land_backyard',\n",
    "    \"Land availability (in %) for informal backyard housing\",\n",
    "    path_input_tables,\n",
    "    ubnd=1, lbnd=0)\n",
    "\n",
    "Image(path_input_plots + \"coeff_land_backyard.png\")"
   ]
  },
  {
   "cell_type": "code",
   "execution_count": null,
   "id": "8912e1da",
   "metadata": {},
   "outputs": [],
   "source": [
    "# For informal settlements\n",
    "coeff_land_IS_map = outexp.export_map(\n",
    "    coeff_land[2], grid, geo_grid, path_input_plots, 'coeff_land_informal',\n",
    "    \"Land availability (in %) for informal settlement housing\",\n",
    "    path_input_tables,\n",
    "    ubnd=1, lbnd=0)\n",
    "\n",
    "Image(path_input_plots + \"coeff_land_informal.png\")"
   ]
  },
  {
   "cell_type": "code",
   "execution_count": null,
   "id": "e2cb2ec4",
   "metadata": {},
   "outputs": [],
   "source": [
    "# For formal subsidized housing\n",
    "coeff_land_FS_map = outexp.export_map(\n",
    "    coeff_land[3], grid, geo_grid, path_input_plots, 'coeff_land_subsidized',\n",
    "    \"Land availability (in %) for formal subsidized housing\",\n",
    "    path_input_tables,\n",
    "    ubnd=1, lbnd=0)\n",
    "\n",
    "Image(path_input_plots + \"coeff_land_subsidized.png\")"
   ]
  },
  {
   "cell_type": "code",
   "execution_count": null,
   "id": "151acb0c",
   "metadata": {},
   "outputs": [],
   "source": [
    "# We also import housing heigth limits\n",
    "housing_limit = inpdt.import_housing_limit(grid, param)"
   ]
  },
  {
   "cell_type": "code",
   "execution_count": null,
   "id": "61b6ea74",
   "metadata": {},
   "outputs": [],
   "source": [
    "# We update parameter vector with construction parameters\n",
    "# (relies on loaded data) and compute other variables\n",
    "(param, minimum_housing_supply, agricultural_rent\n",
    " ) = inpprm.import_construction_parameters(\n",
    "    param, grid, housing_types_sp, data_sp[\"dwelling_size\"],\n",
    "    mitchells_plain_grid_2011, grid_formal_density_HFA, coeff_land,\n",
    "    interest_rate, options\n",
    "    )\n",
    "# endregion"
   ]
  },
  {
   "cell_type": "markdown",
   "id": "9a11ceb0",
   "metadata": {},
   "source": [
    "### Import flood data (takes some time when agents anticipate floods)"
   ]
  },
  {
   "cell_type": "code",
   "execution_count": null,
   "id": "b525d4a4",
   "metadata": {},
   "outputs": [],
   "source": [
    "# If agents anticipate floods, we return output from damage functions\n",
    "if options[\"agents_anticipate_floods\"] == 1:\n",
    "    (fraction_capital_destroyed, structural_damages_small_houses,\n",
    "     structural_damages_medium_houses, structural_damages_large_houses,\n",
    "     content_damages, structural_damages_type1, structural_damages_type2,\n",
    "     structural_damages_type3a, structural_damages_type3b,\n",
    "     structural_damages_type4a, structural_damages_type4b\n",
    "     ) = inpdt.import_full_floods_data(options, param, path_folder,\n",
    "                                       housing_type_data)\n",
    "\n",
    "# Else, we set those outputs as zero\n",
    "# NB: 24014 is the number of grid pixels\n",
    "elif options[\"agents_anticipate_floods\"] == 0:\n",
    "    fraction_capital_destroyed = pd.DataFrame()\n",
    "    fraction_capital_destroyed[\"structure_formal_2\"] = np.zeros(24014)\n",
    "    fraction_capital_destroyed[\"structure_formal_1\"] = np.zeros(24014)\n",
    "    fraction_capital_destroyed[\"structure_subsidized_2\"] = np.zeros(24014)\n",
    "    fraction_capital_destroyed[\"structure_subsidized_1\"] = np.zeros(24014)\n",
    "    fraction_capital_destroyed[\"contents_formal\"] = np.zeros(24014)\n",
    "    fraction_capital_destroyed[\"contents_informal\"] = np.zeros(24014)\n",
    "    fraction_capital_destroyed[\"contents_subsidized\"] = np.zeros(24014)\n",
    "    fraction_capital_destroyed[\"contents_backyard\"] = np.zeros(24014)\n",
    "    fraction_capital_destroyed[\"structure_backyards\"] = np.zeros(24014)\n",
    "    fraction_capital_destroyed[\"structure_formal_backyards\"] = np.zeros(24014)\n",
    "    fraction_capital_destroyed[\"structure_informal_backyards\"\n",
    "                               ] = np.zeros(24014)\n",
    "    fraction_capital_destroyed[\"structure_informal_settlements\"\n",
    "                               ] = np.zeros(24014)"
   ]
  },
  {
   "cell_type": "markdown",
   "id": "5f371d00",
   "metadata": {},
   "source": [
    "#### Let us visualize flood data"
   ]
  },
  {
   "cell_type": "markdown",
   "id": "0a73f0ef",
   "metadata": {},
   "source": [
    "We will first show some flood maps for visual reference, then the associated\n",
    "fractions of capital destroyed computed through damage functions\n",
    "(final damages depend on spatial sorting)\n",
    "\n",
    "NB: all maps are undefended (do not take protective infrastructure into\n",
    "account), and a return period of 100 years corresponds to a 1% chance of\n",
    "occurrence in a given year"
   ]
  },
  {
   "cell_type": "code",
   "execution_count": null,
   "id": "e3037135",
   "metadata": {},
   "outputs": [],
   "source": [
    "# Fluvial undefended maximum flood depth (in m) for a 100-year return period\n",
    "ref_flood = np.squeeze(pd.read_excel(path_floods + \"FU_100yr\" + \".xlsx\"))\n",
    "ref_flood_depth = ref_flood[\"flood_depth\"]\n",
    "ref_flood_map_depth = outexp.export_map(\n",
    "    ref_flood_depth, grid, geo_grid,\n",
    "    path_input_plots, 'FU_100yr' + '_map_depth',\n",
    "    \"\",\n",
    "    path_input_tables,\n",
    "    ubnd=4)\n",
    "\n",
    "Image(path_input_plots + 'FU_100yr' + '_map_depth.png')"
   ]
  },
  {
   "cell_type": "code",
   "execution_count": null,
   "id": "f729ec06",
   "metadata": {},
   "outputs": [],
   "source": [
    "# Pluvial maximum flood depth (in m) for a 100-year return period\n",
    "ref_flood = np.squeeze(pd.read_excel(path_floods + \"P_100yr\" + \".xlsx\"))\n",
    "ref_flood_depth = ref_flood[\"flood_depth\"]\n",
    "ref_flood_map_depth = outexp.export_map(\n",
    "    ref_flood_depth, grid, geo_grid,\n",
    "    path_input_plots, 'P_100yr' + '_map_depth',\n",
    "    \"\",\n",
    "    path_input_tables,\n",
    "    ubnd=4)\n",
    "\n",
    "Image(path_input_plots + 'P_100yr' + '_map_depth.png')"
   ]
  },
  {
   "cell_type": "code",
   "execution_count": null,
   "id": "19261861",
   "metadata": {},
   "outputs": [],
   "source": [
    "# Coastal maximum flood depth (in m) for a 100-year return period\n",
    "ref_flood = np.squeeze(pd.read_excel(\n",
    "    path_floods + \"C_MERITDEM_1_0100\" + \".xlsx\"))\n",
    "ref_flood_depth = ref_flood[\"flood_depth\"]\n",
    "ref_flood_map_depth = outexp.export_map(\n",
    "    ref_flood_depth, grid, geo_grid,\n",
    "    path_input_plots, 'C_MERITDEM_1_0100' + '_map_depth',\n",
    "    \"\",\n",
    "    path_input_tables,\n",
    "    ubnd=4)\n",
    "\n",
    "Image(path_input_plots + 'C_MERITDEM_1_0100' + '_map_depth.png')"
   ]
  },
  {
   "cell_type": "code",
   "execution_count": null,
   "id": "f5bd81f2",
   "metadata": {},
   "outputs": [],
   "source": [
    "# We create the maps for fraction of capital destroyed before plotting them\n",
    "for col in fraction_capital_destroyed.columns:\n",
    "    value = fraction_capital_destroyed[col]\n",
    "    outexp.export_map(value, grid, geo_grid,\n",
    "                      path_input_plots, col + '_fract_K_destroyed', \"\",\n",
    "                      path_input_tables,\n",
    "                      ubnd=1)"
   ]
  },
  {
   "cell_type": "code",
   "execution_count": null,
   "id": "175c4c63",
   "metadata": {},
   "outputs": [],
   "source": [
    "# For formal private housing structures\n",
    "Image(path_input_plots + 'structure_formal_1' + '_fract_K_destroyed.png')"
   ]
  },
  {
   "cell_type": "code",
   "execution_count": null,
   "id": "f9671bdc",
   "metadata": {},
   "outputs": [],
   "source": [
    "# For informal backyard structures\n",
    "Image(path_input_plots + 'structure_informal_backyards'\n",
    "      + '_fract_K_destroyed.png')"
   ]
  },
  {
   "cell_type": "code",
   "execution_count": null,
   "id": "f2c67398",
   "metadata": {},
   "outputs": [],
   "source": [
    "# For informal settlement structures\n",
    "Image(path_input_plots + 'informal_settlements' + '_fract_K_destroyed.png')"
   ]
  },
  {
   "cell_type": "code",
   "execution_count": null,
   "id": "234041d8",
   "metadata": {},
   "outputs": [],
   "source": [
    "# For formal subsidized structures\n",
    "Image(path_input_plots + 'structure_subsidized_1' + '_fract_K_destroyed.png')"
   ]
  },
  {
   "cell_type": "code",
   "execution_count": null,
   "id": "c65c7b23",
   "metadata": {
    "lines_to_next_cell": 2
   },
   "outputs": [],
   "source": [
    "# For contents across all housing types\n",
    "Image(path_input_plots + 'contents_formal' + '_fract_K_destroyed.png')"
   ]
  },
  {
   "cell_type": "markdown",
   "id": "7c177cab",
   "metadata": {},
   "source": [
    "### Import scenarios (for time-moving variables)"
   ]
  },
  {
   "cell_type": "code",
   "execution_count": null,
   "id": "11d6ae57",
   "metadata": {},
   "outputs": [],
   "source": [
    "(spline_agricultural_rent, spline_interest_rate,\n",
    " spline_population_income_distribution, spline_inflation,\n",
    " spline_income_distribution, spline_population,\n",
    " spline_income, spline_minimum_housing_supply, spline_fuel\n",
    " ) = eqdyn.import_scenarios(income_2011, param, grid, path_scenarios,\n",
    "                            options)"
   ]
  },
  {
   "cell_type": "markdown",
   "id": "1415b29e",
   "metadata": {},
   "source": [
    "### Import (theoretical) income net of commuting costs (for all time periods)"
   ]
  },
  {
   "cell_type": "code",
   "execution_count": null,
   "id": "003609cf",
   "metadata": {},
   "outputs": [],
   "source": [
    "if options[\"compute_net_income\"] == 1:\n",
    "    for t_temp in t:\n",
    "        print(t_temp)\n",
    "        (incomeNetOfCommuting, modalShares, ODflows, averageIncome\n",
    "         ) = inpdt.import_transport_data(\n",
    "             grid, param, t_temp, households_per_income_class, average_income,\n",
    "             spline_inflation, spline_fuel,\n",
    "             spline_population_income_distribution, spline_income_distribution,\n",
    "             path_precalc_inp, path_precalc_transp, 'GRID', options)\n",
    "\n",
    "income_net_of_commuting_costs = np.load(\n",
    "    path_precalc_transp + 'GRID_incomeNetOfCommuting_0.npy')"
   ]
  },
  {
   "cell_type": "markdown",
   "id": "f7b7c303",
   "metadata": {},
   "source": [
    "#### Let us visualize income net of commuting costs at baseline year"
   ]
  },
  {
   "cell_type": "markdown",
   "id": "19c88af4",
   "metadata": {},
   "source": [
    "Note that this variable is computed through our commuting choice model,\n",
    "based on calibrated incomes per income group and job center"
   ]
  },
  {
   "cell_type": "code",
   "execution_count": null,
   "id": "99340b13",
   "metadata": {},
   "outputs": [],
   "source": [
    "# For income group 1\n",
    "netincome_poor = income_net_of_commuting_costs[0, :]\n",
    "netincome_poor_2d_sim = outexp.export_map(\n",
    "    netincome_poor, grid, geo_grid, path_output_plots, 'netincome_poor_2d_sim',\n",
    "    \"Estimated income net of commuting costs (poor)\",\n",
    "    path_output_tables,\n",
    "    ubnd=25000, lbnd=-15000, cmap='bwr')\n",
    "\n",
    "Image(path_output_plots + 'netincome_poor_2d_sim.png')"
   ]
  },
  {
   "cell_type": "code",
   "execution_count": null,
   "id": "86d679fc",
   "metadata": {},
   "outputs": [],
   "source": [
    "# For income group 2\n",
    "netincome_midpoor = income_net_of_commuting_costs[1, :]\n",
    "netincome_midpoor_2d_sim = outexp.export_map(\n",
    "    netincome_midpoor, grid, geo_grid, path_output_plots,\n",
    "    'netincome_midpoor_2d_sim',\n",
    "    \"Estimated income net of commuting costs (mid-poor)\",\n",
    "    path_output_tables,\n",
    "    ubnd=70000, lbnd=-20000, cmap='bwr')\n",
    "\n",
    "Image(path_output_plots + 'netincome_midpoor_2d_sim.png')"
   ]
  },
  {
   "cell_type": "code",
   "execution_count": null,
   "id": "2015ef9e",
   "metadata": {},
   "outputs": [],
   "source": [
    "# For income group 3\n",
    "netincome_midrich = income_net_of_commuting_costs[2, :]\n",
    "netincome_midrich_2d_sim = outexp.export_map(\n",
    "    netincome_midrich, grid, geo_grid, path_output_plots,\n",
    "    'netincome_midrich_2d_sim',\n",
    "    \"Estimated income net of commuting costs (mid-rich)\",\n",
    "    path_output_tables,\n",
    "    ubnd=200000, lbnd=25000)\n",
    "\n",
    "Image(path_output_plots + 'netincome_midrich_2d_sim.png')"
   ]
  },
  {
   "cell_type": "code",
   "execution_count": null,
   "id": "0fdda74f",
   "metadata": {},
   "outputs": [],
   "source": [
    "# For income group 4\n",
    "netincome_rich = income_net_of_commuting_costs[3, :]\n",
    "netincome_rich_2d_sim = outexp.export_map(\n",
    "    netincome_rich, grid, geo_grid, path_output_plots, 'netincome_rich_2d_sim',\n",
    "    \"Estimated income net of commuting costs (rich)\",\n",
    "    path_output_tables,\n",
    "    ubnd=850000, lbnd=250000)\n",
    "\n",
    "Image(path_output_plots + 'netincome_rich_2d_sim.png')"
   ]
  },
  {
   "cell_type": "markdown",
   "id": "6883d640",
   "metadata": {},
   "source": [
    "## Compute initial state equilibrium"
   ]
  },
  {
   "cell_type": "code",
   "execution_count": null,
   "id": "8369a3f0",
   "metadata": {},
   "outputs": [],
   "source": [
    "# We run the algorithm\n",
    "(initial_state_utility,\n",
    " initial_state_error,\n",
    " initial_state_simulated_jobs,\n",
    " initial_state_households_housing_types,\n",
    " initial_state_household_centers,\n",
    " initial_state_households,\n",
    " initial_state_dwelling_size,\n",
    " initial_state_housing_supply,\n",
    " initial_state_rent,\n",
    " initial_state_rent_matrix,\n",
    " initial_state_capital_land,\n",
    " initial_state_average_income,\n",
    " initial_state_limit_city) = eqcmp.compute_equilibrium(\n",
    "     fraction_capital_destroyed,\n",
    "     amenities,\n",
    "     param,\n",
    "     housing_limit,\n",
    "     population,\n",
    "     households_per_income_class,\n",
    "     total_RDP,\n",
    "     coeff_land,\n",
    "     income_net_of_commuting_costs,\n",
    "     grid,\n",
    "     options,\n",
    "     agricultural_rent,\n",
    "     interest_rate,\n",
    "     number_properties_RDP,\n",
    "     average_income,\n",
    "     mean_income,\n",
    "     income_class_by_housing_type,\n",
    "     minimum_housing_supply,\n",
    "     param[\"coeff_A\"],\n",
    "     income_2011)"
   ]
  },
  {
   "cell_type": "markdown",
   "id": "b396debe",
   "metadata": {},
   "source": [
    "Reminder: income groups are ranked from poorer to richer, and housing types\n",
    "follow the following order: formal-backyard-informal-RDP"
   ]
  },
  {
   "cell_type": "markdown",
   "id": "8f093748",
   "metadata": {},
   "source": [
    "Note on outputs (with dimensions in same order as axes):\n",
    "\n",
    "initial_state_utility = utility for each income group (no RDP)\n",
    "  after optimization\n",
    "\n",
    "initial_state_error = value of error term for each group after optimization\n",
    "\n",
    "initial_state_simulated_jobs = total number of households per housing type\n",
    "  (no RDP) and income group\n",
    "\n",
    "initial_state_households_housing_types = number of households\n",
    "  per housing type (with RDP) per pixel\n",
    "\n",
    "initial_state_household_centers = number of households per income group\n",
    "  per pixel\n",
    "\n",
    "initial_state_households = number of households in each housing type\n",
    "  and income group per pixel\n",
    "\n",
    "initial_state_dwelling_size = dwelling size (in m²) for each housing type\n",
    "  per pixel\n",
    "\n",
    "initial_state_housing_supply = housing surface built (in m²) per unit of\n",
    "  available land (in km²) for each housing type in each pixel\n",
    "\n",
    "initial_state_rent = average rent (in rands/m²) for each housing type\n",
    "  in each pixel\n",
    "\n",
    "initial_state_rent_matrix = average willingness to pay (in rands)\n",
    "  for each housing type (no RDP) and each income group in each pixel\n",
    "\n",
    "initial_state_capital_land = value of the (housing construction sector)\n",
    "  capital stock (in available-land unit equivalent) per unit of available\n",
    "  land (in km²) in each housing type (no RDP) and each selected pixel\n",
    "\n",
    "initial_state_average_income = average income per income group\n",
    "  (not an output of the model)\n",
    "\n",
    "initial_state_limit_city = indicator dummy for having strictly more\n",
    "  than one household per housing type and income group in each pixel"
   ]
  },
  {
   "cell_type": "code",
   "execution_count": null,
   "id": "d3cbca8a",
   "metadata": {},
   "outputs": [],
   "source": [
    "# We create the associated output directory\n",
    "try:\n",
    "    os.mkdir(path_outputs + name)\n",
    "except OSError as error:\n",
    "    print(error)"
   ]
  },
  {
   "cell_type": "code",
   "execution_count": null,
   "id": "78d5f86d",
   "metadata": {},
   "outputs": [],
   "source": [
    "# We save the output\n",
    "np.save(path_outputs + name + '/initial_state_utility.npy',\n",
    "        initial_state_utility)\n",
    "np.save(path_outputs + name + '/initial_state_error.npy',\n",
    "        initial_state_error)\n",
    "np.save(path_outputs + name + '/initial_state_simulated_jobs.npy',\n",
    "        initial_state_simulated_jobs)\n",
    "np.save(path_outputs + name + '/initial_state_households_housing_types.npy',\n",
    "        initial_state_households_housing_types)\n",
    "np.save(path_outputs + name + '/initial_state_household_centers.npy',\n",
    "        initial_state_household_centers)\n",
    "np.save(path_outputs + name + '/initial_state_households.npy',\n",
    "        initial_state_households)\n",
    "np.save(path_outputs + name + '/initial_state_dwelling_size.npy',\n",
    "        initial_state_dwelling_size)\n",
    "np.save(path_outputs + name + '/initial_state_housing_supply.npy',\n",
    "        initial_state_housing_supply)\n",
    "np.save(path_outputs + name + '/initial_state_rent.npy',\n",
    "        initial_state_rent)\n",
    "np.save(path_outputs + name + '/initial_state_rent_matrix.npy',\n",
    "        initial_state_rent_matrix)\n",
    "np.save(path_outputs + name + '/initial_state_capital_land.npy',\n",
    "        initial_state_capital_land)\n",
    "np.save(path_outputs + name + '/initial_state_average_income.npy',\n",
    "        initial_state_average_income)\n",
    "np.save(path_outputs + name + '/initial_state_limit_city.npy',\n",
    "        initial_state_limit_city)"
   ]
  },
  {
   "cell_type": "markdown",
   "id": "3ee83bb1",
   "metadata": {},
   "source": [
    "### Let us visualize key equilibrium outputs"
   ]
  },
  {
   "cell_type": "markdown",
   "id": "3d7f87bf",
   "metadata": {},
   "source": [
    "#### Let us start with population distribution"
   ]
  },
  {
   "cell_type": "markdown",
   "id": "4d959665",
   "metadata": {},
   "source": [
    "We first look at sorting across housing types"
   ]
  },
  {
   "cell_type": "code",
   "execution_count": null,
   "id": "c1c5e145",
   "metadata": {},
   "outputs": [],
   "source": [
    "# For formal private housing\n",
    "sim_nb_households_formal = initial_state_households_housing_types[0, :]\n",
    "formal_sim = outexp.export_map(\n",
    "    sim_nb_households_formal, grid, geo_grid, path_output_plots, 'formal_sim',\n",
    "    \"Number of households in formal private (simulation)\",\n",
    "    path_output_tables,\n",
    "    ubnd=1000)\n",
    "\n",
    "Image(path_output_plots + 'formal_sim.png')"
   ]
  },
  {
   "cell_type": "code",
   "execution_count": null,
   "id": "5cc44fe8",
   "metadata": {},
   "outputs": [],
   "source": [
    "# For informal backyards\n",
    "sim_nb_households_backyard = initial_state_households_housing_types[1, :]\n",
    "backyard_sim = outexp.export_map(\n",
    "    sim_nb_households_backyard, grid, geo_grid, path_output_plots,\n",
    "    'backyard_sim', \"Number of households in informal backyard (simulation)\",\n",
    "    path_output_tables,\n",
    "    ubnd=1000)\n",
    "\n",
    "Image(path_output_plots + 'backyard_sim.png')"
   ]
  },
  {
   "cell_type": "code",
   "execution_count": null,
   "id": "42d1d2f0",
   "metadata": {},
   "outputs": [],
   "source": [
    "# For informal settlements\n",
    "sim_nb_households_informal = initial_state_households_housing_types[2, :]\n",
    "informal_sim = outexp.export_map(\n",
    "    sim_nb_households_informal, grid, geo_grid, path_output_plots,\n",
    "    'informal_sim',\n",
    "    \"Number of households in informal settlements (simulation)\",\n",
    "    path_output_tables,\n",
    "    ubnd=3000)\n",
    "\n",
    "Image(path_output_plots + 'informal_sim.png')"
   ]
  },
  {
   "cell_type": "code",
   "execution_count": null,
   "id": "8ac741fc",
   "metadata": {},
   "outputs": [],
   "source": [
    "# For formal subsidized housing\n",
    "data_nb_households_rdp = initial_state_households_housing_types[3, :]\n",
    "rdp_sim = outexp.export_map(\n",
    "    data_nb_households_rdp, grid, geo_grid, path_output_plots, 'rdp_sim',\n",
    "    \"Number of households in formal subsidized (data)\",\n",
    "    path_output_tables,\n",
    "    ubnd=1800)\n",
    "\n",
    "Image(path_output_plots + 'rdp_sim.png')"
   ]
  },
  {
   "cell_type": "markdown",
   "id": "dd1ce53f",
   "metadata": {},
   "source": [
    "We then look at sorting across income groups"
   ]
  },
  {
   "cell_type": "code",
   "execution_count": null,
   "id": "7112877d",
   "metadata": {},
   "outputs": [],
   "source": [
    "# For income group 1\n",
    "sim_nb_households_poor = initial_state_household_centers[0, :]\n",
    "poor_sim = outexp.export_map(\n",
    "    sim_nb_households_poor, grid, geo_grid, path_output_plots, 'poor_sim',\n",
    "    \"Number of poor households (simulation)\",\n",
    "    path_output_tables,\n",
    "    ubnd=5000)\n",
    "\n",
    "Image(path_output_plots + 'poor_sim.png')"
   ]
  },
  {
   "cell_type": "code",
   "execution_count": null,
   "id": "556dab1d",
   "metadata": {},
   "outputs": [],
   "source": [
    "# For income group 2\n",
    "sim_nb_households_midpoor = initial_state_household_centers[1, :]\n",
    "midpoor_sim = outexp.export_map(\n",
    "    sim_nb_households_midpoor, grid, geo_grid, path_output_plots,\n",
    "    'midpoor_sim', \"Number of mid-poor households (simulation)\",\n",
    "    path_output_tables,\n",
    "    ubnd=2000)\n",
    "\n",
    "Image(path_output_plots + 'midpoor_sim.png')"
   ]
  },
  {
   "cell_type": "code",
   "execution_count": null,
   "id": "21a61b0e",
   "metadata": {},
   "outputs": [],
   "source": [
    "# For income group 3\n",
    "sim_nb_households_midrich = initial_state_household_centers[2, :]\n",
    "midrich_sim = outexp.export_map(\n",
    "    sim_nb_households_midrich, grid, geo_grid, path_output_plots,\n",
    "    'midrich_sim', \"Number of mid-rich households (simulation)\",\n",
    "    path_output_tables,\n",
    "    ubnd=1000)\n",
    "\n",
    "Image(path_output_plots + 'midrich_sim.png')"
   ]
  },
  {
   "cell_type": "code",
   "execution_count": null,
   "id": "5f09a438",
   "metadata": {},
   "outputs": [],
   "source": [
    "# For income group 4\n",
    "sim_nb_households_rich = initial_state_household_centers[3, :]\n",
    "rich_sim = outexp.export_map(\n",
    "    sim_nb_households_rich, grid, geo_grid, path_output_plots, 'rich_sim',\n",
    "    \"Number of rich households (simulation)\",\n",
    "    path_output_tables,\n",
    "    ubnd=500)\n",
    "\n",
    "Image(path_output_plots + 'rich_sim.png')"
   ]
  },
  {
   "cell_type": "markdown",
   "id": "39c2f7cf",
   "metadata": {},
   "source": [
    "#### We may also look at housing supply (in m²)"
   ]
  },
  {
   "cell_type": "code",
   "execution_count": null,
   "id": "28f1ab18",
   "metadata": {},
   "outputs": [],
   "source": [
    "# We multiply housing supply per unit of available land by the total area\n",
    "# of a grid cell to recover absolute values of housing supply in each cell\n",
    "housing_supply = initial_state_housing_supply * coeff_land * 0.25"
   ]
  },
  {
   "cell_type": "code",
   "execution_count": null,
   "id": "c6bee1e9",
   "metadata": {},
   "outputs": [],
   "source": [
    "# For formal private housing\n",
    "hsupply_formal = housing_supply[0, :]\n",
    "hsupply_formal_2d_sim = outexp.export_map(\n",
    "    hsupply_formal, grid, geo_grid, path_output_plots, 'hsupply_formal_2d_sim',\n",
    "    \"Total housing supply in private formal (in m²)\",\n",
    "    path_output_tables,\n",
    "    ubnd=35000)\n",
    "\n",
    "Image(path_output_plots + 'hsupply_formal_2d_sim.png')"
   ]
  },
  {
   "cell_type": "code",
   "execution_count": null,
   "id": "eeddfff5",
   "metadata": {},
   "outputs": [],
   "source": [
    "# For informal backyards\n",
    "hsupply_backyard = housing_supply[1, :]\n",
    "hsupply_backyard_2d_sim = outexp.export_map(\n",
    "    hsupply_backyard, grid, geo_grid, path_output_plots,\n",
    "    'hsupply_backyard_2d_sim',\n",
    "    \"Total housing supply in informal backyards (in m²)\",\n",
    "    path_output_tables,\n",
    "    ubnd=30000)\n",
    "\n",
    "Image(path_output_plots + 'hsupply_backyard_2d_sim.png')"
   ]
  },
  {
   "cell_type": "code",
   "execution_count": null,
   "id": "cec4a9bb",
   "metadata": {},
   "outputs": [],
   "source": [
    "# For informal settlements\n",
    "hsupply_informal = housing_supply[2, :]\n",
    "hsupply_informal_2d_sim = outexp.export_map(\n",
    "    hsupply_informal, grid, geo_grid, path_output_plots,\n",
    "    'hsupply_informal_2d_sim',\n",
    "    \"Total housing supply in informal settlements (in m²)\",\n",
    "    path_output_tables,\n",
    "    ubnd=70000)\n",
    "\n",
    "Image(path_output_plots + 'hsupply_informal_2d_sim.png')"
   ]
  },
  {
   "cell_type": "code",
   "execution_count": null,
   "id": "db1fc812",
   "metadata": {},
   "outputs": [],
   "source": [
    "# For formal subsidized housing\n",
    "hsupply_rdp = housing_supply[3, :]\n",
    "hsupply_rdp_2d_sim = outexp.export_map(\n",
    "    hsupply_rdp, grid, geo_grid, path_output_plots, 'hsupply_rdp_2d_sim',\n",
    "    \"Total housing supply in formal subsidized (in m²)\",\n",
    "    path_output_tables,\n",
    "    ubnd=25000)\n",
    "\n",
    "Image(path_output_plots + 'hsupply_rdp_2d_sim.png')"
   ]
  },
  {
   "cell_type": "markdown",
   "id": "9bfd8be2",
   "metadata": {},
   "source": [
    "#### Now, let us look at land prices (in rands / m²)"
   ]
  },
  {
   "cell_type": "code",
   "execution_count": null,
   "id": "438d0454",
   "metadata": {},
   "outputs": [],
   "source": [
    "# We first convert our estimates for the average monthly rents into land prices\n",
    "# based on the zero profit condition for developers\n",
    "land_rent = (\n",
    "    (initial_state_rent[0:3, :] * param[\"coeff_A\"])\n",
    "    ** (1 / param[\"coeff_a\"])\n",
    "    * param[\"coeff_a\"]\n",
    "    * (param[\"coeff_b\"] / (interest_rate + param[\"depreciation_rate\"]))\n",
    "    ** (param[\"coeff_b\"] / param[\"coeff_a\"])\n",
    "    / interest_rate\n",
    "    )"
   ]
  },
  {
   "cell_type": "code",
   "execution_count": null,
   "id": "e04d229a",
   "metadata": {},
   "outputs": [],
   "source": [
    "# For formal private housing\n",
    "landrent_formal_simul = land_rent[0, :].copy()\n",
    "land_price_formal_2d_sim = outexp.export_map(\n",
    "    landrent_formal_simul, grid, geo_grid,\n",
    "    path_output_plots, 'landrent_formal_2d_sim',\n",
    "    \"Simulated average land rents per location (private formal)\",\n",
    "    path_output_tables,\n",
    "    ubnd=15000)\n",
    "\n",
    "Image(path_output_plots + 'landrent_formal_2d_sim.png')"
   ]
  },
  {
   "cell_type": "code",
   "execution_count": null,
   "id": "bc76cd11",
   "metadata": {},
   "outputs": [],
   "source": [
    "# For informal backyards\n",
    "landrent_backyard_simul = land_rent[1, :].copy()\n",
    "land_price_backyard_2d_sim = outexp.export_map(\n",
    "    landrent_backyard_simul, grid, geo_grid,\n",
    "    path_output_plots, 'landrent_backyard_2d_sim',\n",
    "    \"Simulated average land rents per location (informal backyards)\",\n",
    "    path_output_tables,\n",
    "    ubnd=10000)\n",
    "\n",
    "Image(path_output_plots + 'landrent_backyard_2d_sim.png')"
   ]
  },
  {
   "cell_type": "code",
   "execution_count": null,
   "id": "f14c9eb7",
   "metadata": {},
   "outputs": [],
   "source": [
    "# For informal settlements\n",
    "landrent_informal_simul = land_rent[2, :].copy()\n",
    "land_price_informal_2d_sim = outexp.export_map(\n",
    "    landrent_informal_simul, grid, geo_grid,\n",
    "    path_output_plots, 'landrent_informal_2d_sim',\n",
    "    \"Simulated average land rents per location (informal settlements)\",\n",
    "    path_output_tables,\n",
    "    ubnd=10000)\n",
    "\n",
    "Image(path_output_plots + 'landrent_informal_2d_sim.png')"
   ]
  },
  {
   "cell_type": "markdown",
   "id": "bf38b935",
   "metadata": {},
   "source": [
    "Note that we cannot estimate land rents for formal subsidized parcels since\n",
    "such housing is exogenous in our model"
   ]
  },
  {
   "cell_type": "markdown",
   "id": "87f9aa58",
   "metadata": {},
   "source": [
    "#### Finally, let us look at flood damages (in rands)"
   ]
  },
  {
   "cell_type": "markdown",
   "id": "6fefb6e9",
   "metadata": {},
   "source": [
    "In the interest of space and for illustrative purposes, we only show results\n",
    "for the formal private sector structures (which are also the biggest in\n",
    "absolute terms).\n",
    "\n",
    "We redirect the reader to the interface for a more detailed view on other\n",
    "housing submarkets or content damages, with results given as a share of\n",
    "income, for instance"
   ]
  },
  {
   "cell_type": "code",
   "execution_count": null,
   "id": "e70b7af3",
   "metadata": {},
   "outputs": [],
   "source": [
    "# We first list the flood map labels to be used\n",
    "fluvialu_floods = ['FU_5yr', 'FU_10yr', 'FU_20yr', 'FU_50yr', 'FU_75yr',\n",
    "                   'FU_100yr', 'FU_200yr', 'FU_250yr', 'FU_500yr', 'FU_1000yr']\n",
    "pluvial_floods = ['P_5yr', 'P_10yr', 'P_20yr', 'P_50yr', 'P_75yr', 'P_100yr',\n",
    "                  'P_200yr', 'P_250yr', 'P_500yr', 'P_1000yr']\n",
    "coastal_floods = ['C_MERITDEM_1_0000', 'C_MERITDEM_1_0002',\n",
    "                  'C_MERITDEM_1_0005', 'C_MERITDEM_1_0010',\n",
    "                  'C_MERITDEM_1_0025', 'C_MERITDEM_1_0050',\n",
    "                  'C_MERITDEM_1_0100', 'C_MERITDEM_1_0250']"
   ]
  },
  {
   "cell_type": "code",
   "execution_count": null,
   "id": "a7426e0d",
   "metadata": {},
   "outputs": [],
   "source": [
    "# We compute the full values of damaged formal private structures and contents,\n",
    "# for each housing type and a representative household\n",
    "content_cost = outfld.compute_content_cost(\n",
    "    initial_state_household_centers, initial_state_housing_supply,\n",
    "    income_net_of_commuting_costs, param,\n",
    "    fraction_capital_destroyed, initial_state_rent,\n",
    "    initial_state_dwelling_size, interest_rate)\n",
    "\n",
    "formal_structure_cost = outfld.compute_formal_structure_cost_method2(\n",
    "        initial_state_rent, param, interest_rate, coeff_land,\n",
    "        initial_state_households_housing_types, param[\"coeff_A\"])"
   ]
  },
  {
   "cell_type": "code",
   "execution_count": null,
   "id": "2037b719",
   "metadata": {},
   "outputs": [],
   "source": [
    "# From there, we recover aggregate damages associated to each flood type\n",
    "# per return period\n",
    "fluvialu_damages_2d_sim = outfld.compute_damages_2d(\n",
    "    fluvialu_floods, path_floods, param, content_cost,\n",
    "    sim_nb_households_formal, data_nb_households_rdp,\n",
    "    sim_nb_households_informal, sim_nb_households_backyard,\n",
    "    initial_state_dwelling_size, formal_structure_cost, content_damages,\n",
    "    structural_damages_type4b, structural_damages_type4a,\n",
    "    structural_damages_type2, structural_damages_type3a, options,\n",
    "    spline_inflation, 0, path_output_tables, 'fluvialu_sim')\n",
    "\n",
    "pluvial_damages_2d_sim = outfld.compute_damages_2d(\n",
    "    pluvial_floods, path_floods, param, content_cost,\n",
    "    sim_nb_households_formal, data_nb_households_rdp,\n",
    "    sim_nb_households_informal, sim_nb_households_backyard,\n",
    "    initial_state_dwelling_size, formal_structure_cost, content_damages,\n",
    "    structural_damages_type4b, structural_damages_type4a,\n",
    "    structural_damages_type2, structural_damages_type3a, options,\n",
    "    spline_inflation, 0, path_output_tables, 'pluvial_sim')\n",
    "\n",
    "coastal_damages_2d_sim = outfld.compute_damages_2d(\n",
    "    coastal_floods, path_floods, param, content_cost,\n",
    "    sim_nb_households_formal, data_nb_households_rdp,\n",
    "    sim_nb_households_informal, sim_nb_households_backyard,\n",
    "    initial_state_dwelling_size, formal_structure_cost, content_damages,\n",
    "    structural_damages_type4b, structural_damages_type4a,\n",
    "    structural_damages_type2, structural_damages_type3a, options,\n",
    "    spline_inflation, 0, path_output_tables, 'coastal_sim')"
   ]
  },
  {
   "cell_type": "markdown",
   "id": "fe4f13bb",
   "metadata": {},
   "source": [
    "Then, we get to plot the annualized value of some of those damages"
   ]
  },
  {
   "cell_type": "code",
   "execution_count": null,
   "id": "424b2386",
   "metadata": {},
   "outputs": [],
   "source": [
    "# For structures damaged by fluvial floods\n",
    "fluvialu_damages_2d_sim_stacked = np.stack(\n",
    "    [df for df in fluvialu_damages_2d_sim.values()])\n",
    "fluvialu_formal_structure_2d_sim = np.zeros(24014)\n",
    "for j in np.arange(24014):\n",
    "    fluvialu_formal_structure_2d_sim[j] = outfld.annualize_damages(\n",
    "        fluvialu_damages_2d_sim_stacked[:, j, 0],\n",
    "        'fluvialu', 'formal', options)\n",
    "\n",
    "temp = fluvialu_formal_structure_2d_sim\n",
    "outexp.export_map(temp, grid, geo_grid,\n",
    "                  path_output_plots,\n",
    "                  outexp.retrieve_name(temp, -1),\n",
    "                  \"\", path_output_tables,\n",
    "                  ubnd=np.quantile(temp[temp > 0], 0.9),\n",
    "                  lbnd=np.min(temp[temp > 0]))\n",
    "\n",
    "Image(path_output_plots + \"fluvialu_formal_structure_2d_sim.png\")"
   ]
  },
  {
   "cell_type": "code",
   "execution_count": null,
   "id": "1ee481c9",
   "metadata": {},
   "outputs": [],
   "source": [
    "# For structures damaged by pluvial floods\n",
    "pluvial_damages_2d_sim_stacked = np.stack(\n",
    "    [df for df in pluvial_damages_2d_sim.values()])\n",
    "pluvial_formal_structure_2d_sim = np.zeros(24014)\n",
    "for j in np.arange(24014):\n",
    "    pluvial_formal_structure_2d_sim[j] = outfld.annualize_damages(\n",
    "        pluvial_damages_2d_sim_stacked[:, j, 0],\n",
    "        'pluvial', 'formal', options)\n",
    "\n",
    "temp = pluvial_formal_structure_2d_sim\n",
    "outexp.export_map(temp, grid, geo_grid,\n",
    "                  path_output_plots,\n",
    "                  outexp.retrieve_name(temp, -1),\n",
    "                  \"\", path_output_tables,\n",
    "                  ubnd=np.quantile(temp[temp > 0], 0.9),\n",
    "                  lbnd=np.min(temp[temp > 0]))\n",
    "\n",
    "Image(path_output_plots + \"pluvial_formal_structure_2d_sim.png\")"
   ]
  },
  {
   "cell_type": "code",
   "execution_count": null,
   "id": "723b09d6",
   "metadata": {},
   "outputs": [],
   "source": [
    "# For structures damaged by coastal floods\n",
    "coastal_damages_2d_sim_stacked = np.stack(\n",
    "    [df for df in coastal_damages_2d_sim.values()])\n",
    "coastal_formal_structure_2d_sim = np.zeros(24014)\n",
    "for j in np.arange(24014):\n",
    "    coastal_formal_structure_2d_sim[j] = outfld.annualize_damages(\n",
    "        coastal_damages_2d_sim_stacked[:, j, 0],\n",
    "        'coastal', 'formal', options)\n",
    "\n",
    "temp = coastal_formal_structure_2d_sim\n",
    "outexp.export_map(temp, grid, geo_grid,\n",
    "                  path_output_plots,\n",
    "                  outexp.retrieve_name(temp, -1),\n",
    "                  \"\", path_output_tables,\n",
    "                  ubnd=np.quantile(temp[temp > 0], 0.9),\n",
    "                  lbnd=np.min(temp[temp > 0]))\n",
    "\n",
    "Image(path_output_plots + \"coastal_formal_structure_2d_sim.png\")"
   ]
  },
  {
   "cell_type": "markdown",
   "id": "f39f3286",
   "metadata": {},
   "source": [
    "## Run simulations for subsequent periods (time depends on timeline length)"
   ]
  },
  {
   "cell_type": "code",
   "execution_count": null,
   "id": "44f8ef72",
   "metadata": {},
   "outputs": [],
   "source": [
    "# We run the algorithm\n",
    "(simulation_households_center,\n",
    " simulation_households_housing_type,\n",
    " simulation_dwelling_size,\n",
    " simulation_rent,\n",
    " simulation_households,\n",
    " simulation_error,\n",
    " simulation_housing_supply,\n",
    " simulation_utility,\n",
    " simulation_deriv_housing,\n",
    " simulation_T) = eqsim.run_simulation(\n",
    "     t,\n",
    "     options,\n",
    "     param,\n",
    "     grid,\n",
    "     initial_state_utility,\n",
    "     initial_state_error,\n",
    "     initial_state_households,\n",
    "     initial_state_households_housing_types,\n",
    "     initial_state_housing_supply,\n",
    "     initial_state_household_centers,\n",
    "     initial_state_average_income,\n",
    "     initial_state_rent,\n",
    "     initial_state_dwelling_size,\n",
    "     fraction_capital_destroyed,\n",
    "     amenities,\n",
    "     housing_limit,\n",
    "     spline_estimate_RDP,\n",
    "     spline_land_constraints,\n",
    "     spline_land_backyard,\n",
    "     spline_land_RDP,\n",
    "     spline_land_informal,\n",
    "     income_class_by_housing_type,\n",
    "     path_precalc_transp,\n",
    "     spline_RDP,\n",
    "     spline_agricultural_rent,\n",
    "     spline_interest_rate,\n",
    "     spline_population_income_distribution,\n",
    "     spline_inflation,\n",
    "     spline_income_distribution,\n",
    "     spline_population,\n",
    "     spline_income,\n",
    "     spline_minimum_housing_supply,\n",
    "     spline_fuel,\n",
    "     income_2011\n",
    "     )"
   ]
  },
  {
   "cell_type": "code",
   "execution_count": null,
   "id": "ecfc62a9",
   "metadata": {},
   "outputs": [],
   "source": [
    "# We create the associated output directory\n",
    "try:\n",
    "    os.mkdir(path_outputs + name)\n",
    "except OSError as error:\n",
    "    print(error)"
   ]
  },
  {
   "cell_type": "code",
   "execution_count": null,
   "id": "db2ae063",
   "metadata": {},
   "outputs": [],
   "source": [
    "# We save the output\n",
    "np.save(path_outputs + name + '/simulation_households_center.npy',\n",
    "        simulation_households_center)\n",
    "np.save(path_outputs + name + '/simulation_households_housing_type.npy',\n",
    "        simulation_households_housing_type)\n",
    "np.save(path_outputs + name + '/simulation_dwelling_size.npy',\n",
    "        simulation_dwelling_size)\n",
    "np.save(path_outputs + name + '/simulation_rent.npy',\n",
    "        simulation_rent)\n",
    "np.save(path_outputs + name + '/simulation_households.npy',\n",
    "        simulation_households)\n",
    "np.save(path_outputs + name + '/simulation_error.npy',\n",
    "        simulation_error)\n",
    "np.save(path_outputs + name + '/simulation_housing_supply.npy',\n",
    "        simulation_housing_supply)\n",
    "np.save(path_outputs + name + '/simulation_utility.npy',\n",
    "        simulation_utility)\n",
    "np.save(path_outputs + name + '/simulation_deriv_housing.npy',\n",
    "        simulation_deriv_housing)\n",
    "np.save(path_outputs + name + '/simulation_T.npy',\n",
    "        simulation_T)"
   ]
  },
  {
   "cell_type": "markdown",
   "id": "03b35c5d",
   "metadata": {},
   "source": [
    "### Output visualization"
   ]
  },
  {
   "cell_type": "markdown",
   "id": "d8a9e618",
   "metadata": {},
   "source": [
    "All the above outputs are available at each period.\n",
    "For reference, we include here some aggregates that evolve over time.\n",
    "\n",
    "We redirect the reader to the interface for a more detailed view of other\n",
    "aggregates, of which the evolution of flood damages for instance.\n",
    "Note that since flood risks do not evolve through time, the evolution in\n",
    "flood damages is just a function of population growth and spatial sorting"
   ]
  },
  {
   "cell_type": "code",
   "execution_count": null,
   "id": "ae035992",
   "metadata": {},
   "outputs": [],
   "source": [
    "# We set the x-axis of our plots\n",
    "years_simul = np.arange(2011, 2011 + 30)"
   ]
  },
  {
   "cell_type": "markdown",
   "id": "dc558fc5",
   "metadata": {},
   "source": [
    "#### Evolution of utility levels over the years"
   ]
  },
  {
   "cell_type": "code",
   "execution_count": null,
   "id": "082eb193",
   "metadata": {},
   "outputs": [],
   "source": [
    "fig, ax = plt.subplots(figsize=(10, 7))\n",
    "ax.plot(years_simul, simulation_utility[:, 0],\n",
    "        color=\"maroon\", label=\"Poor\")\n",
    "ax.plot(years_simul, simulation_utility[:, 1],\n",
    "        color=\"red\", label=\"Mid-poor\")\n",
    "ax.plot(years_simul, simulation_utility[:, 2],\n",
    "        color=\"darkorange\", label=\"Mid-rich\")\n",
    "ax.plot(years_simul, simulation_utility[:, 3],\n",
    "        color=\"gold\", label=\"Rich\")\n",
    "ax.set_ylim(0)\n",
    "ax.yaxis.set_major_formatter(\n",
    "    mpl.ticker.StrMethodFormatter('{x:,.0f}'))\n",
    "plt.legend()\n",
    "plt.tick_params(labelbottom=True)\n",
    "plt.ylabel(\"Utility levels\", labelpad=15)\n",
    "plt.savefig(path_output_plots + 'evol_util_levels.png')\n",
    "plt.close()\n",
    "\n",
    "Image(path_output_plots + \"evol_util_levels.png\")"
   ]
  },
  {
   "cell_type": "markdown",
   "id": "ee6722dc",
   "metadata": {},
   "source": [
    "#### Evolution of population sorting across housing types"
   ]
  },
  {
   "cell_type": "code",
   "execution_count": null,
   "id": "75c9e12e",
   "metadata": {},
   "outputs": [],
   "source": [
    "fig, ax = plt.subplots(figsize=(10, 7))\n",
    "ax.plot(years_simul, np.nansum(simulation_households_housing_type, 2)[:, 0],\n",
    "        color=\"gold\", label=\"Formal\")\n",
    "ax.plot(years_simul, np.nansum(simulation_households_housing_type, 2)[:, 1],\n",
    "        color=\"darkorange\", label=\"Backyard\")\n",
    "ax.plot(years_simul, np.nansum(simulation_households_housing_type, 2)[:, 2],\n",
    "        color=\"red\", label=\"Informal\")\n",
    "ax.plot(years_simul, np.nansum(simulation_households_housing_type, 2)[:, 3],\n",
    "        color=\"maroon\", label=\"Subsidized\")\n",
    "ax.set_ylim(0)\n",
    "ax.yaxis.set_major_formatter(\n",
    "    mpl.ticker.StrMethodFormatter('{x:,.0f}'))\n",
    "plt.legend()\n",
    "plt.tick_params(labelbottom=True)\n",
    "plt.ylabel(\"Total number of households per housing type\", labelpad=15)\n",
    "plt.savefig(path_output_plots + 'evol_nb_households_htype.png')\n",
    "plt.close()\n",
    "\n",
    "Image(path_output_plots + \"evol_nb_households_htype.png\")"
   ]
  }
 ],
 "metadata": {
  "jupytext": {
   "cell_markers": "region,endregion",
   "cell_metadata_filter": "-all",
   "formats": "ipynb,py"
  },
  "kernelspec": {
   "display_name": "Python 3 (ipykernel)",
   "language": "python",
   "name": "python3"
  }
 },
 "nbformat": 4,
 "nbformat_minor": 5
}
