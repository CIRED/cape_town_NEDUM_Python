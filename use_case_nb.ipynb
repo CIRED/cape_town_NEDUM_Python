{
 "cells": [
  {
   "cell_type": "markdown",
   "id": "8c4fc0d2",
   "metadata": {},
   "source": [
    "# Use cases"
   ]
  },
  {
   "cell_type": "markdown",
   "id": "bf41c240",
   "metadata": {},
   "source": [
    "## Flood risks"
   ]
  },
  {
   "cell_type": "markdown",
   "id": "fe198f1b",
   "metadata": {},
   "source": [
    "### Insurance policy"
   ]
  },
  {
   "cell_type": "markdown",
   "id": "ad17458c",
   "metadata": {},
   "source": [
    "#### Introduction"
   ]
  },
  {
   "cell_type": "markdown",
   "id": "86cfecce",
   "metadata": {},
   "source": [
    "Our model allows us to compare two polar cases: one in which agents (both on the supply and demand sides of  the housing market) perfectly anticipate flood risks (based on existing global flood maps), and the other where they do not at all take them into account. Note that anticipations here can be understood as a mechanism of self-insurance whereby agents perfectly smooth consumption across states of the world by systematically paying for the expected cost of flood damages in any given year: we recall that ours is a static equilibrium model calibrated for baseline year 2011 (for which census data is available)."
   ]
  },
  {
   "cell_type": "markdown",
   "id": "5eb59e01",
   "metadata": {},
   "source": [
    "It can be shown that self-insurance is a substitute for market insurance: our use case therefore boils down to comparative statics between perfect risk-based insurance - while remaining agnostic about the practical mix of schemes involved - and no insurance. It can also be shown that other ex-ante flood managements strategies - namely zoning and subsidized insurance - are second-best options that are easier to implement and less technically demanding, yet yield similar welfare gains. This adds to the generality of our findings."
   ]
  },
  {
   "cell_type": "markdown",
   "id": "8be92144",
   "metadata": {},
   "source": [
    "We want to make clear from the outset that we do not aim at explicitly modelling insurance choice and/or belief formation, but rather at showing their distributional welfare consequences within an urban economics framework that converges towards a long-run equilibrium. The current reality may be expressed as a convex combination of our two polar cases, and the difference in outcomes between the two should be interpreted as an upper bound on the achievable welfare gains/losses from implementing the corresponding policy. Also note that protection investments (either self-provided, market-based, or state-funded) are not modelled here and would require a separate use case, as they act like a complement to insurance."
   ]
  },
  {
   "cell_type": "markdown",
   "id": "59b5cb08",
   "metadata": {},
   "source": [
    "That being said, let us dig into the insurance case."
   ]
  },
  {
   "cell_type": "markdown",
   "id": "d0690f5e",
   "metadata": {},
   "source": [
    "#### Inputs"
   ]
  },
  {
   "cell_type": "markdown",
   "id": "e57fad53",
   "metadata": {},
   "source": [
    "Our model allows us to distinguish between fluvial, pluvial, and coastal flood risks. Fluvial and pluvial flood risks are based upon FATHOM global flood maps, and coastal flood risks upon DELTARES global flood maps. Those maps are merged with the *City of Cape Town* (CoCT) analysis grid to obtain estimates of flood-prone area share and maximum flood depth levels for distinct return periods (corresponding to probabilities of ocurrence in any given year), at the grid cell level (500x500m). For reference, the climate conditions used to produce the flood maps are the ones prevailing in 2018, which we assume to be roughly in line with the ones prevailing at our baseline year. Also, our geographic units are 30 times bigger than the units used in the raw flood maps, hence we consider them as being of good enough quality for what we define as the \"local\" level. Then, this information is converted into an expected fraction of capital destroyed, leveraging estimates from the insurance literature. This measure varies across damage type (either building structures or good contents stored at home) and building materials (hence housing types) for damages on structures. The spatial distribution of such depreciation rate is shown below for damages on contents (which do not vary across housing types)."
   ]
  },
  {
   "cell_type": "code",
   "execution_count": 7,
   "id": "570d0b8e",
   "metadata": {},
   "outputs": [
    {
     "data": {
      "text/html": [
       "\n",
       "        <iframe\n",
       "            width=\"1000\"\n",
       "            height=\"500\"\n",
       "            src=\"use_case_insur/maps/map_fract_K_destroyed.html\"\n",
       "            frameborder=\"0\"\n",
       "            allowfullscreen\n",
       "            \n",
       "        ></iframe>\n",
       "        "
      ],
      "text/plain": [
       "<IPython.lib.display.IFrame at 0x1ad0f417a60>"
      ]
     },
     "execution_count": 7,
     "metadata": {},
     "output_type": "execute_result"
    }
   ],
   "source": [
    "from IPython.display import IFrame\n",
    "IFrame(src='use_case_insur/maps/map_fract_K_destroyed.html', width=1000, height=500)"
   ]
  },
  {
   "cell_type": "markdown",
   "id": "54d6b7ca",
   "metadata": {},
   "source": [
    "As could be expected, flood exposure follows the coastline (for coastal flood risks), waterways (for fluvial flood risks), and topological depression areas (for pluvial flood risks). The distribution of its intensity is not obvious a priori however. Note that this is only a first step towards quantifying damages, as their final value also depends on the housing choices made by households: highly exposed but low-density areas such as the peninsula should feature relatively low damages. Also note that the flood maps used to calibrate this variable are so-called \"undefended\" flood maps. This means that they do not take into account existing infrastructure that may affect the spatial distribution of flood risks (as assessing this dimension on a global scale would provide noisy estimates at best). This is why we prefer to intepret our results in changes, rather than in levels: all else equal (including existing infrastructure), what is the impact of a change on a given dimension (for instance, insurance) over outcomes of the model? "
   ]
  },
  {
   "cell_type": "markdown",
   "id": "3fdc5205",
   "metadata": {},
   "source": [
    "In our model, geography is also defined by several other dimensions, namely land availability per housing type, location-specific amenities (with an added disamenity factor for informal housing), and calibrated income net of commuting costs (accounting for distribution of commuters across job centers for different income groups). Although they do not play a key role in this specific use case, we plot some of them below for reference as they constitute the universe of exogenous factors that influence households' endogenous location decisions."
   ]
  },
  {
   "cell_type": "code",
   "execution_count": 8,
   "id": "2a1d474b",
   "metadata": {},
   "outputs": [
    {
     "data": {
      "text/html": [
       "\n",
       "        <iframe\n",
       "            width=\"1000\"\n",
       "            height=\"500\"\n",
       "            src=\"use_case_insur/maps/map_amenities.html\"\n",
       "            frameborder=\"0\"\n",
       "            allowfullscreen\n",
       "            \n",
       "        ></iframe>\n",
       "        "
      ],
      "text/plain": [
       "<IPython.lib.display.IFrame at 0x1ad0f3198b0>"
      ]
     },
     "execution_count": 8,
     "metadata": {},
     "output_type": "execute_result"
    }
   ],
   "source": [
    "from IPython.display import IFrame\n",
    "IFrame(src='use_case_insur/maps/map_amenities.html', width=1000, height=500)"
   ]
  },
  {
   "cell_type": "markdown",
   "id": "983840fd",
   "metadata": {},
   "source": [
    "As expected, we find high amenity values in the city centre and in specific areas well-endowed by nature."
   ]
  },
  {
   "cell_type": "code",
   "execution_count": 9,
   "id": "a05f1964",
   "metadata": {},
   "outputs": [
    {
     "data": {
      "text/html": [
       "\n",
       "        <iframe\n",
       "            width=\"1000\"\n",
       "            height=\"500\"\n",
       "            src=\"use_case_insur/maps/map_netincome_1.html\"\n",
       "            frameborder=\"0\"\n",
       "            allowfullscreen\n",
       "            \n",
       "        ></iframe>\n",
       "        "
      ],
      "text/plain": [
       "<IPython.lib.display.IFrame at 0x1ad0f417340>"
      ]
     },
     "execution_count": 9,
     "metadata": {},
     "output_type": "execute_result"
    }
   ],
   "source": [
    "from IPython.display import IFrame\n",
    "IFrame(src='use_case_insur/maps/map_netincome_1.html', width=1000, height=500)"
   ]
  },
  {
   "cell_type": "code",
   "execution_count": 10,
   "id": "f0a84ccb",
   "metadata": {},
   "outputs": [
    {
     "data": {
      "text/html": [
       "\n",
       "        <iframe\n",
       "            width=\"1000\"\n",
       "            height=\"500\"\n",
       "            src=\"use_case_insur/maps/map_netincome_2.html\"\n",
       "            frameborder=\"0\"\n",
       "            allowfullscreen\n",
       "            \n",
       "        ></iframe>\n",
       "        "
      ],
      "text/plain": [
       "<IPython.lib.display.IFrame at 0x1ad0f332130>"
      ]
     },
     "execution_count": 10,
     "metadata": {},
     "output_type": "execute_result"
    }
   ],
   "source": [
    "from IPython.display import IFrame\n",
    "IFrame(src='use_case_insur/maps/map_netincome_2.html', width=1000, height=500)"
   ]
  },
  {
   "cell_type": "code",
   "execution_count": 11,
   "id": "3a4a545e",
   "metadata": {},
   "outputs": [
    {
     "data": {
      "text/html": [
       "\n",
       "        <iframe\n",
       "            width=\"1000\"\n",
       "            height=\"500\"\n",
       "            src=\"use_case_insur/maps/map_netincome_3.html\"\n",
       "            frameborder=\"0\"\n",
       "            allowfullscreen\n",
       "            \n",
       "        ></iframe>\n",
       "        "
      ],
      "text/plain": [
       "<IPython.lib.display.IFrame at 0x1ad0f417250>"
      ]
     },
     "execution_count": 11,
     "metadata": {},
     "output_type": "execute_result"
    }
   ],
   "source": [
    "from IPython.display import IFrame\n",
    "IFrame(src='use_case_insur/maps/map_netincome_3.html', width=1000, height=500)"
   ]
  },
  {
   "cell_type": "code",
   "execution_count": 12,
   "id": "688aa2d6",
   "metadata": {},
   "outputs": [
    {
     "data": {
      "text/html": [
       "\n",
       "        <iframe\n",
       "            width=\"1000\"\n",
       "            height=\"500\"\n",
       "            src=\"use_case_insur/maps/map_netincome_4.html\"\n",
       "            frameborder=\"0\"\n",
       "            allowfullscreen\n",
       "            \n",
       "        ></iframe>\n",
       "        "
      ],
      "text/plain": [
       "<IPython.lib.display.IFrame at 0x1ad0f417af0>"
      ]
     },
     "execution_count": 12,
     "metadata": {},
     "output_type": "execute_result"
    }
   ],
   "source": [
    "from IPython.display import IFrame\n",
    "IFrame(src='use_case_insur/maps/map_netincome_4.html', width=1000, height=500)"
   ]
  },
  {
   "cell_type": "markdown",
   "id": "8704a186",
   "metadata": {},
   "source": [
    "As expected from a gravity-like commuting choice model, we find a negative income gradient around job centres, which correspond to heat peakpoints on the maps. Also note that job centre (and income) distribution becomes less dispersed as we climb the job ladder."
   ]
  },
  {
   "cell_type": "markdown",
   "id": "6a0652d2",
   "metadata": {},
   "source": [
    "Finally, note that even if our model allows us to make predictions at a very granular level, no validation data exists at such a fine level of aggregation. This means that, even though we get good performance when aggregating outcomes at the Small Place (SP) or Small Area Level (SAL), one should be cautious when interpreting results for an isolated grid cell."
   ]
  },
  {
   "cell_type": "markdown",
   "id": "0e925277",
   "metadata": {},
   "source": [
    "#### Aggregate damages"
   ]
  },
  {
   "cell_type": "markdown",
   "id": "29658177",
   "metadata": {},
   "source": [
    "We refer the reader to the technical documentation for a complete review of how the model works. Let us focus here on the results in terms of flood damages. We plot below the distribution of aggregate annual damages across housing and damage types, comparing our two polar cases, for each flood type. "
   ]
  },
  {
   "cell_type": "code",
   "execution_count": 6,
   "id": "672a4db8",
   "metadata": {},
   "outputs": [
    {
     "data": {
      "text/html": [
       "\n",
       "        <iframe\n",
       "            width=\"1000\"\n",
       "            height=\"500\"\n",
       "            src=\"use_case_insur/charts/fluvialu_sim_damage_sum_insur.html\"\n",
       "            frameborder=\"0\"\n",
       "            allowfullscreen\n",
       "            \n",
       "        ></iframe>\n",
       "        "
      ],
      "text/plain": [
       "<IPython.lib.display.IFrame at 0x1ad0f417940>"
      ]
     },
     "execution_count": 6,
     "metadata": {},
     "output_type": "execute_result"
    }
   ],
   "source": [
    "from IPython.display import IFrame\n",
    "IFrame(src='use_case_insur/charts/fluvialu_sim_damage_sum_insur.html', width=1000, height=500)"
   ]
  },
  {
   "cell_type": "code",
   "execution_count": 13,
   "id": "d007cbfd",
   "metadata": {},
   "outputs": [
    {
     "data": {
      "text/html": [
       "\n",
       "        <iframe\n",
       "            width=\"1000\"\n",
       "            height=\"500\"\n",
       "            src=\"use_case_insur/charts/pluvial_sim_damage_sum_insur.html\"\n",
       "            frameborder=\"0\"\n",
       "            allowfullscreen\n",
       "            \n",
       "        ></iframe>\n",
       "        "
      ],
      "text/plain": [
       "<IPython.lib.display.IFrame at 0x1ad0f3325e0>"
      ]
     },
     "execution_count": 13,
     "metadata": {},
     "output_type": "execute_result"
    }
   ],
   "source": [
    "from IPython.display import IFrame\n",
    "IFrame(src='use_case_insur/charts/pluvial_sim_damage_sum_insur.html', width=1000, height=500)"
   ]
  },
  {
   "cell_type": "code",
   "execution_count": 14,
   "id": "5d50d01d",
   "metadata": {},
   "outputs": [
    {
     "data": {
      "text/html": [
       "\n",
       "        <iframe\n",
       "            width=\"1000\"\n",
       "            height=\"500\"\n",
       "            src=\"use_case_insur/charts/coastal_sim_damage_sum_insur.html\"\n",
       "            frameborder=\"0\"\n",
       "            allowfullscreen\n",
       "            \n",
       "        ></iframe>\n",
       "        "
      ],
      "text/plain": [
       "<IPython.lib.display.IFrame at 0x1ad0f417ac0>"
      ]
     },
     "execution_count": 14,
     "metadata": {},
     "output_type": "execute_result"
    }
   ],
   "source": [
    "from IPython.display import IFrame\n",
    "IFrame(src='use_case_insur/charts/coastal_sim_damage_sum_insur.html', width=1000, height=500)"
   ]
  },
  {
   "cell_type": "markdown",
   "id": "c2a2dd32",
   "metadata": {},
   "source": [
    "Several comments are in order. First, damages in formal housing are consistently bigger than in informal housing, and damages on structures also tend to outweigh damages on contents. This is because capital value of informal settlements / backyards is calibrated based on construction costs and is fairly low (hence the relative importance of contents in this category), whereas capital value of formal private housing (that is capital-intensive and can be built on several floors) is endogenously determined through supply and demand, and can get pretty high in dense locations. The bulk of overall population lives in formal private housing too, hence the observed results in spite of informal settlements / backyards being less protected from floods. Besides, informal housing dwelling units do not appear to be systematically located in zones with high flood exposure, contrary to what one may think at first. The capital value of formal subsidized housing structures is also calibrated based on construction costs but is typically higher. Finally, the population living in formal private housing is essentially made up of households belonging to the two richest income groups, with the two poorest concentrating in the other housing categories. Their higher amount of income available for consumption explains the relative importance of content damages in this category."
   ]
  },
  {
   "cell_type": "markdown",
   "id": "bbaeb498",
   "metadata": {},
   "source": [
    "Second, damages are higher in the no-insurance case than in the perfect-insurance case. This is to be expected given optimality conditions. The insurance margin also seems to play a relatively more important role in the formal private housing sector. This can be explained by the fact that it is the least constrained of the housing submarkets, either in terms of available locations, or supply and demand. What is more surprising is the differential role insurance seems to play across flood types. Again, this can be interpreted in terms of existing constraints. Pluvial flood zones are typically more dispersed than fluvial or coastal flood zones, hence are harder to avoid (the extensive margin). Independently, coastal flood zones are typically more valuable, hence a floor below which demand would not fall (the intensive margin)."
   ]
  },
  {
   "cell_type": "markdown",
   "id": "77522fed",
   "metadata": {},
   "source": [
    "Third, damages also significantly vary in their magnitude across flood types:\n",
    "- Total fluvial damages amount to roughly 280M ZAR (2011) with insurance and 570M ZAR (2011) without insurance (+104%)\n",
    "- Total pluvial damages amount to roughly 145M ZAR (2011) with insurance and 165M ZAR (2011) without insurance (+14%)\n",
    "- Total coastal damages amount to roughly 50M ZAR (2011) with insurance and 75M ZAR (2011) without insurance (+50%)\n",
    "\n",
    "Using an inflation rate of 64% over the 2011-2021 period, and an exchange rate of 14.78 ZAR/USD, we get the following:\n",
    "- Total fluvial damages amount to roughly 31M USD (2021) with insurance and 63M USD (2021) without insurance\n",
    "- Total pluvial damages amount to roughly 16M USD (2021) with insurance and 18M USD (2021) without insurance\n",
    "- Total coastal damages amount to roughly 6M USD (2021) with insurance and 8M USD (2021) without insurance\n",
    "\n",
    "For comparison, a 2021 report by the World Bank (\"Flood Risk and Resilience of Coastal Cities in Sub-Saharan Africa\") gives values of 16M USD for rainwater (both fluvial and pluvial) flood damages, and 370,000 USD for coastal flood damages. The difference between the two estimations is essentially a question of methodology. Let us start by saying that, due to partial overlap, an exact estimation of rainwater flood damages cannot just be obtained as the sum of fluvial and pluvial flood damages in our case. Taking the maximum between the two in each grid cell, we obtain a value of 389M ZAR (2011) / 43M USD (2021) with insurance, and 675M ZAR (2011) / 75M USD (2021) without insurance (+74%). This is still a substantial overestimation for both flood types, especially coastal.\n",
    "\n",
    "Note that the report uses essentially the same flood maps as ours for rainwater flood risks, as well as the same Extreme Sea Level (ESL) inputs for coastal flood risks, albeit not the same Digital Elevation Model (DEM) used to spatialize discrete inputs. This should not generate a dramatic difference however. Urban exposure is based upon 2015 data, which we deem close enough to our 2011 baseline, and all construction is also considered as residential, since this is the most common building type. On that point, it is worth noting that both approaches only yield estimates of direct flood costs, and not indirect ones such as transport disruption, business losses, or loss of family income (which are shown to be important in the World Bank 2019 \"Lifelines\" report).\n",
    "\n",
    "Damage vulnerability curves (used to translate maximum flood depth into fraction of capital destroyed) are slightly different, but also in the same range. On that point, we actually think that we are improving on the report's estimates, since we are using different functions to account for the variety of building materials used in structures, and the separate exposure of contents. Besides, our depth-damage functions for structures were calibrated for the African context (as in the report), and the functions for contents were calibrated for the South African context more specifically, taking into account the cap on damageable share that is advocated for in the report.\n",
    "\n",
    "The key difference lies in the way the underlying value of vulnerable assets is estimated. The report uses satellite imagery to determine the extent of urban exposure, and multiplies this area by a (unique) maximum unitary damage value per m². Final damage estimates are then obtained by applying the depth-damage function in each location to this total maximum value. In contrast, urban extent and unitary value of underlying structures and contents are endogenous outcomes in our model: the city can be built on several floors, underlying values are heterogeneous, and can become very high in valuable areas. In fact, for a similar urban coverage, we find a total capital value for formal private housing structures that is very close to their estimate of the total exposed capital value of the city: since this is the housing category that drives most of the damages in absolute terms, our differences in results boil down to the way those values are distributed across the city in our model (they are typically high along the coast and in some flood-prone zones where there is high demand) and the value of associated contents, which we think is underestimated in the report.\n",
    "\n",
    "To give an element of comparison, the maximum unitary damage value they consider in the report (24.6 USD, 2021) is almost the same as the one we calibrate for the capital value of one surface unit of an informal \"shack\" (23.78 USD, 2021). We think this is too low to reflect the average capital value of the city, and one would find damage values even bigger than our estimates by using the same methodology with a higher reference point, such as the one taken for South Africa in the 2017 JRC technical report (\"Global flood depth-damage functions\") that they cite (765 EUR, 2010 ; that is 1,018 USD, 2021 with 12% inflation and a 0.845 exchange rate). We therefore consider to be in the middle range."
   ]
  },
  {
   "cell_type": "markdown",
   "id": "43fde3a1",
   "metadata": {},
   "source": [
    "#### Spatial distribution of absolute damages"
   ]
  },
  {
   "cell_type": "markdown",
   "id": "347294b8",
   "metadata": {},
   "source": [
    "We now look at how those absolute damages are distributed across space."
   ]
  },
  {
   "cell_type": "markdown",
   "id": "dac617ec",
   "metadata": {},
   "source": [
    "First, in the full-insurance case:"
   ]
  },
  {
   "cell_type": "code",
   "execution_count": 15,
   "id": "c3a49a37",
   "metadata": {},
   "outputs": [
    {
     "data": {
      "text/html": [
       "\n",
       "        <iframe\n",
       "            width=\"1000\"\n",
       "            height=\"500\"\n",
       "            src=\"use_case_insur/maps/abs_damages/map_damages_insur.html\"\n",
       "            frameborder=\"0\"\n",
       "            allowfullscreen\n",
       "            \n",
       "        ></iframe>\n",
       "        "
      ],
      "text/plain": [
       "<IPython.lib.display.IFrame at 0x1ad0f417520>"
      ]
     },
     "execution_count": 15,
     "metadata": {},
     "output_type": "execute_result"
    }
   ],
   "source": [
    "from IPython.display import IFrame\n",
    "IFrame(src='use_case_insur/maps/abs_damages/map_damages_insur.html', width=1000, height=500)"
   ]
  },
  {
   "cell_type": "markdown",
   "id": "5b3f1641",
   "metadata": {},
   "source": [
    "Then, in the no-insurance case:"
   ]
  },
  {
   "cell_type": "code",
   "execution_count": 16,
   "id": "e408ca84",
   "metadata": {},
   "outputs": [
    {
     "data": {
      "text/html": [
       "\n",
       "        <iframe\n",
       "            width=\"1000\"\n",
       "            height=\"500\"\n",
       "            src=\"use_case_insur/maps/abs_damages/map_damages_noinsur.html\"\n",
       "            frameborder=\"0\"\n",
       "            allowfullscreen\n",
       "            \n",
       "        ></iframe>\n",
       "        "
      ],
      "text/plain": [
       "<IPython.lib.display.IFrame at 0x1ad0f319a30>"
      ]
     },
     "execution_count": 16,
     "metadata": {},
     "output_type": "execute_result"
    }
   ],
   "source": [
    "from IPython.display import IFrame\n",
    "IFrame(src='use_case_insur/maps/abs_damages/map_damages_noinsur.html', width=1000, height=500)"
   ]
  },
  {
   "cell_type": "markdown",
   "id": "f4114f87",
   "metadata": {},
   "source": [
    "Finally, comparing the two:"
   ]
  },
  {
   "cell_type": "code",
   "execution_count": 17,
   "id": "26205311",
   "metadata": {},
   "outputs": [
    {
     "data": {
      "text/html": [
       "\n",
       "        <iframe\n",
       "            width=\"1000\"\n",
       "            height=\"500\"\n",
       "            src=\"use_case_insur/maps/abs_damages/map_damages_compar_insur.html\"\n",
       "            frameborder=\"0\"\n",
       "            allowfullscreen\n",
       "            \n",
       "        ></iframe>\n",
       "        "
      ],
      "text/plain": [
       "<IPython.lib.display.IFrame at 0x1ad0f417fa0>"
      ]
     },
     "execution_count": 17,
     "metadata": {},
     "output_type": "execute_result"
    }
   ],
   "source": [
    "from IPython.display import IFrame\n",
    "IFrame(src='use_case_insur/maps/abs_damages/map_damages_compar_insur.html', width=1000, height=500)"
   ]
  },
  {
   "cell_type": "markdown",
   "id": "8a24b4d9",
   "metadata": {},
   "source": [
    "As expected, damages are higher in the no-insurance case. In both cases, their spatial distribution roughly follows the distribution of flood exposure in populated areas (as will be made clear below). Also, the adjustment between the two essentially occurs in fluvial flood zones and some coastal ones, in the formal private sector."
   ]
  },
  {
   "cell_type": "markdown",
   "id": "f4e3246e",
   "metadata": {},
   "source": [
    "#### Spatial distribution of relative damages"
   ]
  },
  {
   "cell_type": "markdown",
   "id": "eb25315d",
   "metadata": {},
   "source": [
    "What is not apparent in the above figures are the welfare consequences of flood risks. Due to the spatial indifference condition (that holds in equilibrium), all households belonging to the same income group share a common utility level in the full-insurance case (with higher values as we climb the income ladder). Ex-ante, the same applies to the no-insurance case, with utility levels that are higher for all income groups since households live in a no-flood world. Ex-post, the discovery of the flood damages associated with their location and housing choices is going to differentially affect their utilities (which will be typically lower than in the full-insurance case for exposed households): the spatial indifference condition does not hold anymore as we do not allow households to sort again."
   ]
  },
  {
   "cell_type": "markdown",
   "id": "b51e6281",
   "metadata": {},
   "source": [
    "It is worth noting that, since utility is an ordinal (as opposed to cardinal) concept, we cannot quantitatively interpret the difference in utility levels across scenarios: we may simply say that some households are made worse off or better off, but not by how much. What we can do is to come up with an income compensation scheme that would make households indifferent across scenarios. Conditional on residential location, (group-specific) income net of commuting costs is a state variable that only affects utility through the budget constraint (as opposed to consumption choices on housing and composite good): we therefore consider it to be the relevant margin for a compensation scheme. Since it is heterogeneous across space (see appendix on the resolution of the commuting choice model for more details), it may not be possible to assign a unique compensation rate to all households (who may sort) within one income group, as this equilibrium may fail to exist. However, we may do it (at least theoretically) on a geographic basis: this is exactly what is given by the difference in flood damages (as a % of net income), for different housing types (that have different flood vulnerability), between the full-insurance and the no-insurance cases, that we plot below."
   ]
  },
  {
   "cell_type": "markdown",
   "id": "9b310b5e",
   "metadata": {},
   "source": [
    "First, for formal private housing:"
   ]
  },
  {
   "cell_type": "code",
   "execution_count": 18,
   "id": "ac71b339",
   "metadata": {},
   "outputs": [
    {
     "data": {
      "text/html": [
       "\n",
       "        <iframe\n",
       "            width=\"1000\"\n",
       "            height=\"500\"\n",
       "            src=\"use_case_insur/maps/rel_damages/formal/map_damages_compar_shareinc_insur_formal.html\"\n",
       "            frameborder=\"0\"\n",
       "            allowfullscreen\n",
       "            \n",
       "        ></iframe>\n",
       "        "
      ],
      "text/plain": [
       "<IPython.lib.display.IFrame at 0x1ad0f3a2a60>"
      ]
     },
     "execution_count": 18,
     "metadata": {},
     "output_type": "execute_result"
    }
   ],
   "source": [
    "from IPython.display import IFrame\n",
    "IFrame(src='use_case_insur/maps/rel_damages/formal/map_damages_compar_shareinc_insur_formal.html', width=1000, height=500)"
   ]
  },
  {
   "cell_type": "markdown",
   "id": "ccc85f31",
   "metadata": {},
   "source": [
    "Then, for formal subsidized housing:"
   ]
  },
  {
   "cell_type": "code",
   "execution_count": 20,
   "id": "830a11ef",
   "metadata": {},
   "outputs": [
    {
     "data": {
      "text/html": [
       "\n",
       "        <iframe\n",
       "            width=\"1000\"\n",
       "            height=\"500\"\n",
       "            src=\"use_case_insur/maps/rel_damages/subsidized/map_damages_compar_shareinc_insur_subsidized.html\"\n",
       "            frameborder=\"0\"\n",
       "            allowfullscreen\n",
       "            \n",
       "        ></iframe>\n",
       "        "
      ],
      "text/plain": [
       "<IPython.lib.display.IFrame at 0x1ad0f4178b0>"
      ]
     },
     "execution_count": 20,
     "metadata": {},
     "output_type": "execute_result"
    }
   ],
   "source": [
    "from IPython.display import IFrame\n",
    "IFrame(src='use_case_insur/maps/rel_damages/subsidized/map_damages_compar_shareinc_insur_subsidized.html', width=1000, height=500)"
   ]
  },
  {
   "cell_type": "markdown",
   "id": "04a5bd70",
   "metadata": {},
   "source": [
    "For informal settlements:"
   ]
  },
  {
   "cell_type": "code",
   "execution_count": 21,
   "id": "0730760b",
   "metadata": {},
   "outputs": [
    {
     "data": {
      "text/html": [
       "\n",
       "        <iframe\n",
       "            width=\"1000\"\n",
       "            height=\"500\"\n",
       "            src=\"use_case_insur/maps/rel_damages/informal/map_damages_compar_shareinc_insur_informal.html\"\n",
       "            frameborder=\"0\"\n",
       "            allowfullscreen\n",
       "            \n",
       "        ></iframe>\n",
       "        "
      ],
      "text/plain": [
       "<IPython.lib.display.IFrame at 0x1ad0f319f70>"
      ]
     },
     "execution_count": 21,
     "metadata": {},
     "output_type": "execute_result"
    }
   ],
   "source": [
    "from IPython.display import IFrame\n",
    "IFrame(src='use_case_insur/maps/rel_damages/informal/map_damages_compar_shareinc_insur_informal.html', width=1000, height=500)"
   ]
  },
  {
   "cell_type": "markdown",
   "id": "8d956b1f",
   "metadata": {},
   "source": [
    "Finally, for informal backyards:"
   ]
  },
  {
   "cell_type": "code",
   "execution_count": 22,
   "id": "90728bf1",
   "metadata": {},
   "outputs": [
    {
     "data": {
      "text/html": [
       "\n",
       "        <iframe\n",
       "            width=\"1000\"\n",
       "            height=\"500\"\n",
       "            src=\"use_case_insur/maps/rel_damages/backyard/map_damages_compar_shareinc_insur_backyard.html\"\n",
       "            frameborder=\"0\"\n",
       "            allowfullscreen\n",
       "            \n",
       "        ></iframe>\n",
       "        "
      ],
      "text/plain": [
       "<IPython.lib.display.IFrame at 0x1ad0f4171f0>"
      ]
     },
     "execution_count": 22,
     "metadata": {},
     "output_type": "execute_result"
    }
   ],
   "source": [
    "from IPython.display import IFrame\n",
    "IFrame(src='use_case_insur/maps/rel_damages/backyard/map_damages_compar_shareinc_insur_backyard.html', width=1000, height=500)"
   ]
  },
  {
   "cell_type": "markdown",
   "id": "2d5dd1ae",
   "metadata": {},
   "source": [
    "As expected, flood damage surplus is globally positive in the no-insurance case. The corresponding net income loss globally follows the spatial distribution of total absolute damages for formal private housing, with a relative peak East of the airport where income group 2 (the second poorest) lives, and a relative trough near Rosebank where income group 4 (the richest) lives.\n",
    "\n",
    "Also only content for compensation bla bla.."
   ]
  },
  {
   "cell_type": "markdown",
   "id": "757921ef",
   "metadata": {},
   "source": [
    "To be clear, we do not claim this compensation scheme to be unique\n",
    "\n",
    "\n",
    "Who benefits?\n",
    "\n",
    "Bail out..\n",
    "\n",
    "We let second best feasible implementation.."
   ]
  },
  {
   "cell_type": "markdown",
   "id": "092f837d",
   "metadata": {},
   "source": [
    "To simplify intepretation, we plot aggregate distribution..\n",
    "To fully compensate..."
   ]
  },
  {
   "cell_type": "markdown",
   "id": "9f0cdadc",
   "metadata": {},
   "source": [
    "#### Population moves and composition effects"
   ]
  },
  {
   "cell_type": "markdown",
   "id": "7f7c633c",
   "metadata": {},
   "source": [
    "This still says nothing of extensive vs. intensive margin"
   ]
  },
  {
   "cell_type": "markdown",
   "id": "11f899f2",
   "metadata": {},
   "source": [
    "#### Spatial sorting determinants"
   ]
  },
  {
   "cell_type": "markdown",
   "id": "50e5195f",
   "metadata": {},
   "source": [
    "#### Welfare implications"
   ]
  }
 ],
 "metadata": {
  "kernelspec": {
   "display_name": "Python 3 (ipykernel)",
   "language": "python",
   "name": "python3"
  },
  "language_info": {
   "codemirror_mode": {
    "name": "ipython",
    "version": 3
   },
   "file_extension": ".py",
   "mimetype": "text/x-python",
   "name": "python",
   "nbconvert_exporter": "python",
   "pygments_lexer": "ipython3",
   "version": "3.9.13"
  }
 },
 "nbformat": 4,
 "nbformat_minor": 5
}
